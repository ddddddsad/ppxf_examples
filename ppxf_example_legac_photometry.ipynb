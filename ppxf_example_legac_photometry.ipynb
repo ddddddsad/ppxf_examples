{
 "cells": [
  {
   "cell_type": "markdown",
   "metadata": {},
   "source": [
    "# pPXF: Fitting photometry and spectra of LEGA-C galaxies at $z\\approx0.8$\n",
    "\n",
    "Usage example for the procedure pPXF originally described in [Cappellari & Emsellem (2004)](http://adsabs.harvard.edu/abs/2004PASP..116..138C), substantially upgraded in [Cappellari (2017)](http://adsabs.harvard.edu/abs/2017MNRAS.466..798C) and with the inclusion of photometry and linear constraints in [Cappellari (2023)](https://ui.adsabs.harvard.edu/abs/2023MNRAS.526.3273C).\n",
    "\n",
    "This example reproduces the pPXF fit of Figure 5 in [Cappellari (2023)](https://ui.adsabs.harvard.edu/abs/2023MNRAS.526.3273C).\n",
    "\n",
    "* V1.0.0: Michele Cappellari, Oxford, 8 December 2023: Created\n",
    "* V1.1.0: Demonstrate use of ``sps_util.mass_to_light`` and ``ppxf_util.solar_mag`` in pPXF v9.1. MC, Oxford, 18 January 2024\n",
    "\n",
    "\n",
    "![pPXF](https://www-astro.physics.ox.ac.uk/~cappellari/software/ppxf_logo.svg)\n"
   ]
  },
  {
   "cell_type": "markdown",
   "metadata": {},
   "source": [
    "## Imports and function definitions"
   ]
  },
  {
   "cell_type": "code",
   "execution_count": 1,
   "metadata": {},
   "outputs": [],
   "source": [
    "from urllib import request\n",
    "from pathlib import Path\n",
    "\n",
    "import numpy as np\n",
    "import matplotlib.pyplot as plt\n",
    "from astropy.io import fits\n",
    "from astropy import constants, cosmology\n",
    "from scipy import ndimage, stats"
   ]
  },
  {
   "cell_type": "code",
   "execution_count": 2,
   "metadata": {},
   "outputs": [],
   "source": [
    "import ppxf.ppxf_util as util\n",
    "import ppxf.sps_util as lib\n",
    "from ppxf.ppxf import ppxf, robust_sigma"
   ]
  },
  {
   "cell_type": "code",
   "execution_count": 3,
   "metadata": {},
   "outputs": [],
   "source": [
    "###############################################################################\n",
    "\n",
    "def noise_spectrum(residuals, width=101, sigma=1):\n",
    "    \"\"\"\n",
    "    Robust determination of the 1sigma error spectrum as the 68th percentile\n",
    "    of the absolute residuals from a fit in a given running window.\n",
    "    \"\"\"\n",
    "    assert width % 2 == 1, f\"width = {width} must be odd\"\n",
    "    assert width > 10, f\"width = {width} too small\"\n",
    "\n",
    "    p = 200*stats.norm.cdf(sigma) - 100  # sigma = 1 --> 68 %\n",
    "\n",
    "    # The median residual should be nearly zero already, but I redo it anyway\n",
    "    med = ndimage.median_filter(residuals, size=width)\n",
    "    res = abs(residuals - med)\n",
    "    noise = ndimage.percentile_filter(res, p, size=width)\n",
    "\n",
    "    return noise/sigma  # always returns 1sigma noise spectrum\n",
    "\n",
    "################################################################################\n",
    "\n",
    "def clip_outliers(galaxy, noise, bestfit, mask):\n",
    "    \"\"\"\n",
    "    Repeat the fit after clipping pixels deviating more than 3*sigma in\n",
    "    relative error. Continue until there are no further changes in the bad\n",
    "    bins. \n",
    "    \"\"\"\n",
    "    while True:\n",
    "        d = galaxy[mask]/noise[mask]\n",
    "        m = bestfit[mask]/noise[mask]\n",
    "        scale = (d @ m)/(m @ m)   # eq. (34) Cappellari (2023)\n",
    "        resid = scale*bestfit[mask] - galaxy[mask]\n",
    "        err = np.zeros_like(galaxy)\n",
    "        err[mask] = noise_spectrum(resid)\n",
    "        mask_old = mask.copy()\n",
    "        mask = np.abs(bestfit - galaxy) < 3*err  # 3sigma\n",
    "        if np.array_equal(mask, mask_old):\n",
    "            break\n",
    "\n",
    "    return mask\n",
    "\n",
    "###############################################################################\n",
    "\n",
    "def ppxf_clip_outliers(templates, galaxy, noise, velscale, start, mask=None, phot=None, plot=False, \n",
    "                       lam=None, lam_temp=None, component=None, gas_component=None, **kwargs):\n",
    "    \"\"\"\n",
    "    Wrapper for pPXF: \n",
    "    - Perform an initial pPXF fit;\n",
    "    - Find outliers and mask pixels;\n",
    "    - Rescale spectral and photometric uncertainties;\n",
    "    - Perform second pPXF fit, with new mask and uncertainties.\n",
    "    \"\"\"\n",
    "    if mask is None:\n",
    "        mask = np.ones(galaxy.size, dtype=bool)\n",
    "\n",
    "    pp = ppxf(templates, galaxy, noise, velscale, start, mask=mask, phot=phot,lam=lam, \n",
    "              lam_temp=lam_temp, component=component, gas_component=gas_component, **kwargs)\n",
    "\n",
    "    if plot:\n",
    "        plt.clf()\n",
    "        plt.subplot(211)\n",
    "        pp.plot()\n",
    "\n",
    "    # Clip outliers and include clipped pixels to the previous mask\n",
    "    mask &= clip_outliers(galaxy, noise, pp.bestfit, mask)\n",
    "\n",
    "    # Scale spectrum errors to have chi2/DOF=1 after masking\n",
    "    resid = ((pp.bestfit - galaxy)/noise)[mask]\n",
    "    chi2 = resid @ resid\n",
    "    noise *= np.sqrt(chi2/mask.sum())\n",
    "\n",
    "    if phot is not None:\n",
    "        # Scale photometry errors to have chi2/DOF=1\n",
    "        phot_resid = (pp.phot_bestfit - phot[\"galaxy\"])/phot[\"noise\"]\n",
    "        phot_chi2 = phot_resid @ phot_resid\n",
    "        phot[\"noise\"] *= np.sqrt(phot_chi2/phot[\"galaxy\"].size)\n",
    "\n",
    "    start = pp.sol   # start from previous pPXF solution\n",
    "\n",
    "    # Repeat the fit after masking\n",
    "    pp = ppxf(templates, galaxy, noise, velscale, start, mask=mask, phot=phot, lam=lam, \n",
    "                lam_temp=lam_temp, component=component, gas_component=gas_component, **kwargs)\n",
    "\n",
    "    # Estimate S/N in output\n",
    "    resid = (galaxy - pp.bestfit)[mask]\n",
    "    rms = robust_sigma(resid, zero=1)\n",
    "    flx = np.median(galaxy[mask])\n",
    "    sn = flx/rms\n",
    "\n",
    "    if plot:\n",
    "        plt.subplot(212)\n",
    "        pp.plot()\n",
    "\n",
    "    return pp, sn\n",
    "\n",
    "###############################################################################\n"
   ]
  },
  {
   "cell_type": "markdown",
   "metadata": {},
   "source": [
    "## Read the LEGA-C spectrum\n",
    " \n",
    "Selects one object, and the corresponding redshift, from the LEGA-C catalogue by [van der Wel et al. (2021)](https://ui.adsabs.harvard.edu/abs/2021ApJS..256...44V/abstract).\n",
    "\n",
    "In a real application, this will be done with a specific function reading from the catalogue files, but I avoided including the whole catalogue for this example. "
   ]
  },
  {
   "cell_type": "code",
   "execution_count": 4,
   "metadata": {},
   "outputs": [],
   "source": [
    "id = 56670          # ID of the UltraVISTA catalogue by Muzzin+13 (see later) -> ID = 414 in LEGA-C DR3\n",
    "redshift = 0.6686   # Initial redshift estimate from the LEGA-C catalog"
   ]
  },
  {
   "cell_type": "markdown",
   "metadata": {},
   "source": [
    "Read a LEGA-C galaxy spectrum taken (with permission) from the catalogue of [van der Wel et al. (2021)](https://ui.adsabs.harvard.edu/abs/2021ApJS..256...44V/abstract).\n",
    "The wavelength range outside the observed limits is filled with `NaN`, which I remove below."
   ]
  },
  {
   "cell_type": "code",
   "execution_count": 5,
   "metadata": {},
   "outputs": [],
   "source": [
    "file_dir = Path(lib.__file__).parent / 'spectra'\n",
    "filename = file_dir.glob(f'legac_*_{id}_v3.0.fits')  \n",
    "filename = list(filename)[0]  # get first of possible duplicates\n",
    "t = fits.open(filename)[1].data\n",
    "flx = np.squeeze(t['flux'])\n",
    "finite = np.isfinite(flx)\n",
    "galaxy_lin = flx[finite]\n",
    "wave_lin = np.squeeze(t['wave'])[finite]"
   ]
  },
  {
   "cell_type": "markdown",
   "metadata": {},
   "source": [
    "<font color='red'>IMPORTANT:</font> Bring the observed spectrum to the rest-frame, using the redshift estimate provided by the LEGA-C catalogue."
   ]
  },
  {
   "cell_type": "code",
   "execution_count": 6,
   "metadata": {},
   "outputs": [],
   "source": [
    "wave_lin /= 1 + redshift"
   ]
  },
  {
   "cell_type": "markdown",
   "metadata": {},
   "source": [
    "Logarithmically rebin the spectrum to a velocity scale per spectral pixel equal to the instrumental dispersion $\\sigma_{\\rm inst}$ of VIMOS. This ensures Nyquist sampling without loss of information."
   ]
  },
  {
   "cell_type": "code",
   "execution_count": 7,
   "metadata": {},
   "outputs": [],
   "source": [
    "lam_range_gal = [np.min(wave_lin), np.max(wave_lin)]\n",
    "c_kms = constants.c.to('km/s').value  # speed of light in km/s\n",
    "R = 3500    # LEGA-C approximate instrumental dispersion (Sec.3.2 van der Wel+21)\n",
    "sigma_instr_gal = c_kms/R/2.355   # 36 km/s\n",
    "galaxy, ln_lam, velscale = util.log_rebin(lam_range_gal, galaxy_lin, velscale=sigma_instr_gal)"
   ]
  },
  {
   "cell_type": "markdown",
   "metadata": {},
   "source": [
    "Normalizes the galaxy spectrum to average unity. Adopt as initial estimate of the noise a crude estimate of the true value. This choice has little effect on the final result, as the noise will be rescaled after an initial `pPXF` fit."
   ]
  },
  {
   "cell_type": "code",
   "execution_count": 8,
   "metadata": {},
   "outputs": [],
   "source": [
    "galaxy /= np.median(galaxy)  # Normalize spectrum to avoid numerical issues\n",
    "noise = np.full_like(galaxy, 0.1)   # S=1, N=0.1 --> S/N = 10"
   ]
  },
  {
   "cell_type": "markdown",
   "metadata": {},
   "source": [
    "## Select the library of SPS templates\n",
    "\n",
    "pPXF can be used with any set of SPS population templates. However, I am currently providing (with permission) ready-to-use template files for three SPS. One can just uncomment one of the three models below. The included files are only a subset of the SPS that can be produced with the models, and one should use the relevant software to produce different sets of SPS templates if needed.\n",
    "\n",
    "1. If you use the [fsps v3.2](https://github.com/cconroy20/fsps) SPS model templates, please also cite [Conroy et al. (2009)](https://ui.adsabs.harvard.edu/abs/2009ApJ...699..486C) and [Conroy et al. (2010)](https://ui.adsabs.harvard.edu/abs/2010ApJ...712..833C) in your paper.\n",
    "\n",
    "2. If you use the [GALAXEV v2000](http://www.bruzual.org/bc03/) SPS model templates, please also cite [Bruzual & Charlot (2003)](https://ui.adsabs.harvard.edu/abs/2003MNRAS.344.1000B) in your paper.\n",
    "\n",
    "3. If you use the [E-MILES](http://miles.iac.es/) SPS model templates, please also cite [Vazdekis et al. (2016)](https://ui.adsabs.harvard.edu/abs/2016MNRAS.463.3409V) in your paper. \n",
    "<font color='red'>WARNING: the E-MILES models do not include very young SPS and should not be used for highly star forming galaxies.</font>  "
   ]
  },
  {
   "cell_type": "code",
   "execution_count": 9,
   "metadata": {},
   "outputs": [],
   "source": [
    "sps_name = 'fsps'\n",
    "# sps_name = 'galaxev'\n",
    "# sps_name = 'emiles'"
   ]
  },
  {
   "cell_type": "markdown",
   "metadata": {},
   "source": [
    "Read the SPS models file from my GitHub if not already in the pPXF package dir. I am not distributing the templates with pPXF anymore.\n",
    "The SPS model files are also available [this GitHub page](https://github.com/micappe/ppxf_data)."
   ]
  },
  {
   "cell_type": "code",
   "execution_count": 10,
   "metadata": {},
   "outputs": [],
   "source": [
    "ppxf_dir = Path(lib.__file__).parent\n",
    "basename = f\"spectra_{sps_name}_9.0.npz\"\n",
    "filename = ppxf_dir / 'sps_models' / basename\n",
    "if not filename.is_file():\n",
    "    url = \"https://raw.githubusercontent.com/micappe/ppxf_data/main/\" + basename\n",
    "    request.urlretrieve(url, filename)"
   ]
  },
  {
   "cell_type": "markdown",
   "metadata": {},
   "source": [
    "## Setup spectral templates: stars and gas"
   ]
  },
  {
   "cell_type": "code",
   "execution_count": 11,
   "metadata": {},
   "outputs": [
    {
     "name": "stdout",
     "output_type": "stream",
     "text": [
      "Emission lines included in gas templates:\n",
      "['Balmer' '[NeIII]3968' '[NeIII]3869' 'HeII4687' '[OIII]5007_d']\n"
     ]
    }
   ],
   "source": [
    "norm_type = 'lbol'          # Normalize spectra by their bolometric luminosity\n",
    "norm_range=[0.1e4, 3e4]     # Use only observable range for bolometric integral\n",
    "libs = lib.sps_lib(filename, velscale, norm_range=norm_range, norm_type=norm_type)\n",
    "\n",
    "# The stellar templates are reshaped below into a 2-dim array with each\n",
    "# spectrum as a column; however, we save the original array dimensions,\n",
    "# which are needed to specify the regularization dimensions\n",
    "reg_dim = libs.templates.shape[1:]\n",
    "stars_templates = libs.templates.reshape(libs.templates.shape[0], -1)\n",
    "\n",
    "# Construct a set of Gaussian emission line templates.\n",
    "# The `emission_lines` function defines the most common lines, but additional\n",
    "# lines can be included by editing the function in the file ppxf_util.py.\n",
    "vacuum = False if sps_name == 'emiles' else True\n",
    "gas_templates, gas_names, line_wave = util.emission_lines(\n",
    "    libs.ln_lam_temp, lam_range_gal, FWHM_gal=0, tie_balmer=1, vacuum=vacuum)\n",
    "\n",
    "# Combines the stellar and gaseous templates into a single array. During\n",
    "# the pPXF fit they will be assigned a different kinematic COMPONENT value\n",
    "templates = np.column_stack([stars_templates, gas_templates])\n"
   ]
  },
  {
   "cell_type": "markdown",
   "metadata": {},
   "source": [
    "## Input galaxy photometry"
   ]
  },
  {
   "cell_type": "markdown",
   "metadata": {},
   "source": [
    "This is the most delicate part of the analysis. One has to associate the measured photometry to the right filter names. For this example, I took the photometric measurements and the filters associations from the [UltraVISTA catalogue](https://local.strw.leidenuniv.nl/galaxyevolution/ULTRAVISTA/Ultravista/UltraVISTA_Catalog_Home.html) described in [Muzzin et al. (2013)](https://ui.adsabs.harvard.edu/abs/2013ApJ...777...18M/abstract). The association between filters and filter responses is generally included as a file in the catalogue, as is the case for UltraVISTA. In a real application, these photometric measurements are extracted automatically from a large catalogue file. But I extracted a single line from the file, to avoid redistributing the full catalogue."
   ]
  },
  {
   "cell_type": "code",
   "execution_count": 12,
   "metadata": {},
   "outputs": [],
   "source": [
    "bands0 = np.array(['VISTA/Ks', 'VISTA/H', 'VISTA/J', 'VISTA/Y', \n",
    "                   'IRAC/irac_tr4_2004-08-09', 'IRAC/irac_tr3_2004-08-09',\n",
    "                   'IRAC/irac_tr2_2004-08-09', 'IRAC/irac_tr1_2004-08-09',\n",
    "                   'COSMOS/SUBARU_filter_z', 'COSMOS/SUBARU_filter_i',\n",
    "                   'COSMOS/SUBARU_filter_r', 'COSMOS/SUBARU_filter_V',\n",
    "                   'COSMOS/SUBARU_filter_g', 'COSMOS/SUBARU_filter_B',\n",
    "                   'megaprime/cfht_mega_u', 'Subaru_MB/IA484', 'Subaru_MB/IA527',\n",
    "                   'Subaru_MB/IA624', 'Subaru_MB/IA679', 'Subaru_MB/IA738',\n",
    "                   'Subaru_MB/IA768', 'Subaru_MB/IA427', 'Subaru_MB/IA464',\n",
    "                   'Subaru_MB/IA505', 'Subaru_MB/IA574', 'Subaru_MB/IA709',\n",
    "                   'Subaru_MB/IA827', 'CAPAK/galex1500', 'CAPAK/galex2500'])\n",
    "phot_galaxy0 = np.array([256.732, 204.159, 148.225, 110.063,  57.896,  98.691, 130.98,\n",
    "                         207.56,  86.484,  58.093,  21.61,   9.848,   4.404,   2.702,\n",
    "                         1.189,   4.866,   8.026,  18.472,  35.406,  51.61,  63.231,\n",
    "                         1.403,   2.667,   6.188,  12.902,  40.663,  71.183,   0., 0.547])\n",
    "Ks_tot = 445.509\n",
    "phot_galaxy0 *= Ks_tot/phot_galaxy0[0]  # Aperture flux to total one (eq.4 Muzzin+13)"
   ]
  },
  {
   "cell_type": "markdown",
   "metadata": {},
   "source": [
    "The documentation by Muzzin+13 states that one should multiply the tabulated fluxes as below, to obtain CGS units. `3631 Jy = 3.631e-20 erg/cm2/s/Hz` is the constant flux of the AB system, but Muzzin+13 includes an extra factor `1e-10`."
   ]
  },
  {
   "cell_type": "code",
   "execution_count": 13,
   "metadata": {},
   "outputs": [],
   "source": [
    "phot_galaxy = phot_galaxy0*3.631e-30  # erg/cm2/s/Hz  inside 2.1 arcsec aperture"
   ]
  },
  {
   "cell_type": "markdown",
   "metadata": {},
   "source": [
    "## Compute photometric templates"
   ]
  },
  {
   "cell_type": "markdown",
   "metadata": {},
   "source": [
    "Compute the synthetic flux of each filter-template combination at the estimated redshift of the galaxy. \n",
    "\n",
    "Note that, that `synthetic_photometry` does **not** account for the $(1+z)$ dimming, due to the stretching of the spectrum. \n",
    "\n",
    "The output `phot_templates` array is the photometric equivalent of the spectroscopic `templates` that are used as input to pPXF. This class also computes the effective wavelength of each filter-template combination. If the band falls outside of the wavelength range of the spectral templates provided by the SPS library, the procedure returns `p1.ok=False` and prints \"Outside template\" in the verbose output below."
   ]
  },
  {
   "cell_type": "code",
   "execution_count": 14,
   "metadata": {},
   "outputs": [
    {
     "name": "stdout",
     "output_type": "stream",
     "text": [
      "  1: VISTA/Ks\n",
      "  2: VISTA/H\n",
      "  3: VISTA/J\n",
      "  4: VISTA/Y\n",
      "  5 --- Outside template: IRAC/irac_tr4_2004-08-09\n",
      "  6: IRAC/irac_tr3_2004-08-09\n",
      "  7: IRAC/irac_tr2_2004-08-09\n",
      "  8: IRAC/irac_tr1_2004-08-09\n",
      "  9: COSMOS/SUBARU_filter_z\n",
      " 10: COSMOS/SUBARU_filter_i\n",
      " 11: COSMOS/SUBARU_filter_r\n",
      " 12: COSMOS/SUBARU_filter_V\n",
      " 13: COSMOS/SUBARU_filter_g\n",
      " 14: COSMOS/SUBARU_filter_B\n",
      " 15: megaprime/cfht_mega_u\n",
      " 16: Subaru_MB/IA484\n",
      " 17: Subaru_MB/IA527\n",
      " 18: Subaru_MB/IA624\n",
      " 19: Subaru_MB/IA679\n",
      " 20: Subaru_MB/IA738\n",
      " 21: Subaru_MB/IA768\n",
      " 22: Subaru_MB/IA427\n",
      " 23: Subaru_MB/IA464\n",
      " 24: Subaru_MB/IA505\n",
      " 25: Subaru_MB/IA574\n",
      " 26: Subaru_MB/IA709\n",
      " 27: Subaru_MB/IA827\n",
      " 28: CAPAK/galex1500\n",
      " 29: CAPAK/galex2500\n"
     ]
    }
   ],
   "source": [
    "p1 = util.synthetic_photometry(templates, libs.lam_temp, bands=bands0, redshift=redshift)\n",
    "\n",
    "# Extract only the bands falling within the templates wavelength range\n",
    "phot_lam, phot_lam_piv, phot_templates, phot_galaxy, bands = p1.lam_eff[p1.ok], p1.lam_piv[p1.ok], p1.flux[p1.ok], phot_galaxy[p1.ok], bands0[p1.ok]"
   ]
  },
  {
   "cell_type": "markdown",
   "metadata": {},
   "source": [
    "## Convert observed photometry to flux/A"
   ]
  },
  {
   "cell_type": "markdown",
   "metadata": {},
   "source": [
    "I convert exactly the observed galaxy values from `flux/Hz` into `flux/A` using the pivot wavelength $\\lambda_{\\rm piv}$ of each filter (eq. 16 of [Cappellari 2023](https://ui.adsabs.harvard.edu/abs/10.1093/mnras/stad2597)). \n",
    "\n",
    "NB: `synthetic_photometry` computes $\\lambda_{\\rm piv}$ in the restframe wavelength and I must shift it to the observed redshift as $\\lambda^{\\rm obs}_{\\rm piv}=\\lambda^{\\rm rest}_{\\rm piv}(1+z)$ below."
   ]
  },
  {
   "cell_type": "code",
   "execution_count": 15,
   "metadata": {},
   "outputs": [],
   "source": [
    "phot_lam_piv *= 1 + redshift                # Use observed wavelength in flux conversion\n",
    "c_as = constants.c.to('Angstrom/s').value   # speed of light in A/s\n",
    "phot_galaxy *= c_as/phot_lam_piv**2         # Exact conversion flux/Hz --> flux/A"
   ]
  },
  {
   "cell_type": "markdown",
   "metadata": {},
   "source": [
    "## Scale photometry to match galaxy spectrum"
   ]
  },
  {
   "cell_type": "markdown",
   "metadata": {},
   "source": [
    "The photometry was not measured in the same aperture as the spectra. Moreover, the *relative* calibration of spectra and photometry is never sufficiently accurate. For this reason, I scale the photometry to match the spectrum flux, and save the scaling factor for later. \n",
    "\n",
    "For this, I compute the synthetic photometry on the LEGA-C spectrum, for the few filters that fall within the spectrum wavelength range, and match the synthetic predictions to the observed photometry from Muzzin+13. (see Sec. 6.4 of [Cappellari 2023](https://ui.adsabs.harvard.edu/abs/2023MNRAS.526.3273C)). \n",
    "\n",
    "The procedure `synthetic_photometry` checks if a filters fall within the wavelength range of the spectrum and returns `p2.ok=False`, and prints \"Outside template\" in the verbose output, for filters where this is not the case."
   ]
  },
  {
   "cell_type": "code",
   "execution_count": 16,
   "metadata": {},
   "outputs": [
    {
     "name": "stdout",
     "output_type": "stream",
     "text": [
      "  1 --- Outside template: VISTA/Ks\n",
      "  2 --- Outside template: VISTA/H\n",
      "  3 --- Outside template: VISTA/J\n",
      "  4 --- Outside template: VISTA/Y\n",
      "  5 --- Outside template: IRAC/irac_tr3_2004-08-09\n",
      "  6 --- Outside template: IRAC/irac_tr2_2004-08-09\n",
      "  7 --- Outside template: IRAC/irac_tr1_2004-08-09\n",
      "  8 --- Outside template: COSMOS/SUBARU_filter_z\n",
      "  9: COSMOS/SUBARU_filter_i\n",
      " 10 --- Outside template: COSMOS/SUBARU_filter_r\n",
      " 11 --- Outside template: COSMOS/SUBARU_filter_V\n",
      " 12 --- Outside template: COSMOS/SUBARU_filter_g\n",
      " 13 --- Outside template: COSMOS/SUBARU_filter_B\n",
      " 14 --- Outside template: megaprime/cfht_mega_u\n",
      " 15 --- Outside template: Subaru_MB/IA484\n",
      " 16 --- Outside template: Subaru_MB/IA527\n",
      " 17 --- Outside template: Subaru_MB/IA624\n",
      " 18: Subaru_MB/IA679\n",
      " 19: Subaru_MB/IA738\n",
      " 20: Subaru_MB/IA768\n",
      " 21 --- Outside template: Subaru_MB/IA427\n",
      " 22 --- Outside template: Subaru_MB/IA464\n",
      " 23 --- Outside template: Subaru_MB/IA505\n",
      " 24 --- Outside template: Subaru_MB/IA574\n",
      " 25: Subaru_MB/IA709\n",
      " 26: Subaru_MB/IA827\n",
      " 27 --- Outside template: CAPAK/galex1500\n",
      " 28 --- Outside template: CAPAK/galex2500\n"
     ]
    }
   ],
   "source": [
    "# Compute synthetic photometry on LEGA-C galaxy spectrum, which is already in rest-frame\n",
    "p2 = util.synthetic_photometry(galaxy, np.exp(ln_lam), bands=bands, redshift=redshift)\n",
    "\n",
    "# Extract the bands that fall inside the galaxy spectrum\n",
    "# Scale photometry to match the synthetic one from the LEGA-C spectrum\n",
    "err = 1                     # Assume constant uncertainties\n",
    "d = p2.flux[p2.ok]/err      # photometry predicted from spectrum\n",
    "m = phot_galaxy[p2.ok]/err  # photometry observed\n",
    "scale = (d @ m)/(m @ m)     # eq. (34) Cappellari (2023)\n",
    "phot_galaxy *= scale        # Match photometry to spectrum\n"
   ]
  },
  {
   "cell_type": "markdown",
   "metadata": {},
   "source": [
    "## pPXF input parameters"
   ]
  },
  {
   "cell_type": "markdown",
   "metadata": {},
   "source": [
    "Create the input `phot` dictionary for `pPXF`.\n",
    "I assign an initial uncertainties of 3% of the maximum flux. This choice has little influence on the final result, as the uncertainties will be rescaled after an initial `pPXF` fit."
   ]
  },
  {
   "cell_type": "code",
   "execution_count": 17,
   "metadata": {},
   "outputs": [],
   "source": [
    "phot_noise = np.full_like(phot_galaxy, np.max(phot_galaxy)*0.03)   # assume 1sigma uncertainties of 3%\n",
    "phot = {\"templates\": phot_templates, \"galaxy\": phot_galaxy, \"noise\": phot_noise, \"lam\": phot_lam}\n"
   ]
  },
  {
   "cell_type": "markdown",
   "metadata": {},
   "source": [
    "I adopt two kinematic components, one for the stars ``component=0`` and one for the gas ``component=1``.\n",
    "For each component I fit two moments $(V, \\sigma)$. I start the fit from a feasible guess and place reasonable bounds on the parameters.\n",
    "\n",
    "When studying stellar population, one should not use additive polynomials, to avoid changing the line strength of the  spectra. Instead, I use multiplicative polynomials of ``mdegree=2`` (see Sec. 6.2 of [Cappellari 2023](https://ui.adsabs.harvard.edu/abs/2023MNRAS.526.3273C))."
   ]
  },
  {
   "cell_type": "code",
   "execution_count": 18,
   "metadata": {},
   "outputs": [],
   "source": [
    "start_stars = [0, 200.]     # (km/s), starting guess for [V, sigma]\n",
    "start_gas = [1, 100.]       # ensures feasible start: sigma_gas < sigma_stars\n",
    "start = [start_stars, start_gas]\n",
    "\n",
    "bounds = [[[-500, 500], [1, 500]],   # Important: lower bound cannot be zero\n",
    "          [[-500, 500], [1, 500]]]\n",
    "\n",
    "n_stars = stars_templates.shape[1]\n",
    "n_gas = len(gas_names)\n",
    "\n",
    "# I fit two kinematics components, one for the stars and one for the gas.\n",
    "# Assign component=0 to the stellar templates, component=1 to the gas.\n",
    "component = [0]*n_stars + [1]*n_gas\n",
    "gas_component = np.array(component) > 0  # gas_component=True for gas templates\n",
    "\n",
    "# Fit (V, sig) moments=2 for both the stars and the gas\n",
    "moments = [2, 2]\n",
    "\n",
    "mdegree = 2   # Adopt a degree=2 multiplicative polynomial"
   ]
  },
  {
   "cell_type": "markdown",
   "metadata": {},
   "source": [
    "In my initial tests, I noticed that in some galaxies without gas, pPXF introduces an extremely broad spurious gas emission, which is essentially acting like an additive polynomial rather than a genuine emission line. I use linear constraints to prevent this from happening. \n",
    "\n",
    "Given that I am not interested in the gas kinematics, I set the constraint that the gas velocity $\\sigma_{\\rm gas}$ dispersion (`component=1`) must be smaller than the stellar velocity dispersion $\\sigma_*$ (`component=0`). This is not always true, but appears to work well in this case.\n",
    "\n",
    "In formulas, I want to have:\n",
    "\n",
    "$$\\sigma_{\\rm gas} < \\sigma_*$$\n",
    "\n",
    "Following standard practice in numerical optimization (e.g. [HERE](https://uk.mathworks.com/help/optim/ug/linear-constraints.html)), I express this inequality as a linear constraint as this leads to an efficient optimization algorithm, with guaranteed local convergence:\n",
    "\n",
    "$$\\mathbf{A}_{\\rm ineq}\\cdot \\mathbf{p} < \\mathbf{b}_{\\rm ineq}.$$\n",
    "\n",
    "In this example, the vector of nonlinear kinematic parameters is $\\mathbf{p}=[V_0, \\sigma_0, V_1, \\sigma_1]$ (following the same order of the `start` parameters of `pPXF`) and I can write the above matrix equation explicitly as (in this case the matrix $\\mathbf{A}_{\\rm ineq}$ has a single row)\n",
    "\n",
    "$$\n",
    "\\begin{bmatrix}\n",
    "0 & -1 & 0 & 1 \\\\\n",
    "\\end{bmatrix}\n",
    "\\cdot\n",
    "\\begin{bmatrix}\n",
    "V_0 \\\\\n",
    "\\sigma_0 \\\\\n",
    "V_1 \\\\\n",
    "\\sigma_1\n",
    "\\end{bmatrix}\n",
    "<\n",
    "\\begin{bmatrix}\n",
    "0\\\\\n",
    "\\end{bmatrix}.\n",
    "$$\n",
    "\n",
    "This translates into the following Python code"
   ]
  },
  {
   "cell_type": "code",
   "execution_count": 19,
   "metadata": {},
   "outputs": [],
   "source": [
    "# Constrain the gas dispersion to be smaller than the stellar one\n",
    "A_ineq = [[0, -1, 0, 1]]       # -sigma1 + sigma2 < 0\n",
    "b_ineq = [0]\n",
    "constr_kinem = {\"A_ineq\": A_ineq, \"b_ineq\": b_ineq}"
   ]
  },
  {
   "cell_type": "markdown",
   "metadata": {},
   "source": [
    "Finally I specify the attenuation. I use two different attenuation curves for the stars and the gas:\n",
    "- For the stars I use a two-parameter attenuation, parametrized by the $V$-band attenuation $A_V$ and the slope $\\delta$ (eq. 23 of [Cappellari 2023](https://ui.adsabs.harvard.edu/abs/2023MNRAS.526.3273C)).\n",
    "- For the gas I adopt a single-parameter [Calzetti et al. (2000)](https://ui.adsabs.harvard.edu/abs/2000ApJ...533..682C) curve."
   ]
  },
  {
   "cell_type": "code",
   "execution_count": 20,
   "metadata": {},
   "outputs": [],
   "source": [
    "dust = [{\"start\": [0.11, -0.2], \"bounds\": [[0, 4], [-1, 0.4]], \"component\": ~gas_component},\n",
    "        {\"start\": [0.12], \"bounds\": [[0, 8]], \"component\": gas_component}]\n"
   ]
  },
  {
   "cell_type": "markdown",
   "metadata": {},
   "source": [
    "## pPXF fit with iterative clipping\n",
    "\n",
    "Adopt a regularization parameter and start the pPXF fit, including iteratively clipping of outliers."
   ]
  },
  {
   "cell_type": "code",
   "execution_count": 21,
   "metadata": {},
   "outputs": [
    {
     "name": "stdout",
     "output_type": "stream",
     "text": [
      " Best Fit:       Vel     sigma\n",
      " comp.  0:       -39       218\n",
      " comp.  1:       -79        41\n",
      "Attenuation Parameters 0: 0.000 0.393\n",
      "Attenuation Parameters 1: 7.974\n",
      "chi2/DOF: 0.1054; DOF: 2728; degree = -1; mdegree = 2\n",
      "Photometry chi2/n_bands: 0.4353; n_bands: 28\n",
      "method = capfit; Jac calls: 6; Func calls: 62; Status: 2\n",
      "linear_method = lsq_box; Nonzero Templates (>0.1%): 3/392\n",
      "+++++++++++++++++++++++++++++++++++++++++++++++++++++++++++++++++\n",
      "gas_component           name        flux       err      V     sig\n",
      "+++++++++++++++++++++++++++++++++++++++++++++++++++++++++++++++++\n",
      "Comp:  1                Balmer    0.01714      0.27     -79    41\n",
      "Comp:  1           [NeIII]3968    0.07280      0.20     -79    41\n",
      "Comp:  1           [NeIII]3869      0.000      0.20     -79    41\n",
      "Comp:  1              HeII4687      0.000      0.20     -79    41\n",
      "Comp:  1          [OIII]5007_d     0.5211      0.26     -79    41\n",
      "-----------------------------------------------------------------\n",
      " Best Fit:       Vel     sigma\n",
      " comp.  0:       -40       221\n",
      " comp.  1:       -79        41\n",
      "Attenuation Parameters 0: 0.000 0.188\n",
      "Attenuation Parameters 1: 8.000\n",
      "chi2/DOF: 0.9620; DOF: 2657; degree = -1; mdegree = 2\n",
      "Photometry chi2/n_bands: 1.752; n_bands: 28\n",
      "method = capfit; Jac calls: 3; Func calls: 32; Status: 2\n",
      "linear_method = lsq_box; Nonzero Templates (>0.1%): 2/392\n",
      "+++++++++++++++++++++++++++++++++++++++++++++++++++++++++++++++++\n",
      "gas_component           name        flux       err      V     sig\n",
      "+++++++++++++++++++++++++++++++++++++++++++++++++++++++++++++++++\n",
      "Comp:  1                Balmer      0.000     0.072     -79    41\n",
      "Comp:  1           [NeIII]3968    0.06846     0.055     -79    41\n",
      "Comp:  1           [NeIII]3869      0.000     0.055     -79    41\n",
      "Comp:  1              HeII4687      0.000     0.055     -79    41\n",
      "Comp:  1          [OIII]5007_d     0.5223     0.068     -79    41\n",
      "-----------------------------------------------------------------\n"
     ]
    }
   ],
   "source": [
    "regul = 10  # A fixed `regul` can be used because galaxy and templates are normalized\n",
    "pp, sn_ppxf = ppxf_clip_outliers(templates, galaxy, noise, velscale, start,\n",
    "    moments=moments, degree=-1, mdegree=mdegree, lam=np.exp(ln_lam), lam_temp=libs.lam_temp, \n",
    "    regul=regul, reg_dim=reg_dim, component=component, dust=dust, gas_component=gas_component,\n",
    "    gas_names=gas_names, phot=phot, plot=0, constr_kinem=constr_kinem, bounds=bounds)"
   ]
  },
  {
   "cell_type": "markdown",
   "metadata": {},
   "source": [
    "## Population, stellar mass and redshift\n",
    "\n",
    "Extract the weights for the stars only (no gas) and compute the luminosity-weighted age and metallicity."
   ]
  },
  {
   "cell_type": "code",
   "execution_count": 22,
   "metadata": {},
   "outputs": [
    {
     "name": "stdout",
     "output_type": "stream",
     "text": [
      "Weighted <lg_age> [yr]: 9.53\n",
      "Weighted <[M/H]>: 0.166\n"
     ]
    }
   ],
   "source": [
    "light_weights = pp.weights[~gas_component]      # Exclude weights of the gas templates\n",
    "light_weights = light_weights.reshape(reg_dim)  # Reshape to (n_ages, n_metal)\n",
    "\n",
    "# Given that the templates are normalized to L_bol, the pPXF weights represent\n",
    "# L_bol light fractions and the computed ages and metallicities below are also\n",
    "# light weighted by L_bol.\n",
    "libs.mean_age_metal(light_weights);"
   ]
  },
  {
   "cell_type": "markdown",
   "metadata": {},
   "source": [
    "### Stellar mass using all bands (recommended)\n",
    "\n",
    "This is the recommended approach, using all bands for the overall normalization.\n",
    "\n",
    "- Convert the light weights into mass weights, using the ``libs.flux`` attribute;\n",
    "- Multiply by the mass fraction ``libs.mass_no_gas_grid`` in stars and remnants (i.e. excluding gas loss);\n",
    "- Multiply by the area of a sphere of radius $D_L$ to convert observed fluxes into intrinsic luminosity;\n",
    "- Multipy by $(1+z)$ to correct for the decrease with redshift of the spectrum flux density in $\\mathrm{cgs/\\AA}$;\n",
    "- Divide by $L_\\odot$ to convert fluxes to Solar luminosities;\n",
    "- Divide by the ``scale`` to undo the scaling previously applied to match the photometry to the the spectrum.\n"
   ]
  },
  {
   "cell_type": "code",
   "execution_count": 23,
   "metadata": {},
   "outputs": [
    {
     "name": "stdout",
     "output_type": "stream",
     "text": [
      "Total stellar mass: lg(M*/Msun) = 11.64\n"
     ]
    }
   ],
   "source": [
    "\n",
    "cosmo = cosmology.FlatLambdaCDM(H0=70, Om0=0.3)     # Adopt standard flat cosmology\n",
    "lum_dist = cosmo.luminosity_distance(redshift).to('cm').value  # in cm as fluxes are erg/s/cm^2/A\n",
    "area_sphere = 4*np.pi*lum_dist**2                   # Convert observed flux/cm^2 to luminosity\n",
    "dist_fact = area_sphere*(1 + redshift)              # Correct for flux/A ~ 1/(1 + z)\n",
    "Lsun = constants.L_sun.to('erg/s').value            # erg/s (IAU definition) - Spectra are in units of Lsun/A\n",
    "mass_weights = light_weights/libs.flux              # Convert from light weights to mass weights\n",
    "lg_mpop = np.log10((libs.mass_no_gas_grid*mass_weights).sum()*dist_fact/Lsun/scale)  # This is survived stellar mass\n",
    "print(f\"Total stellar mass: lg(M*/Msun) = {lg_mpop:.2f}\")"
   ]
  },
  {
   "cell_type": "markdown",
   "metadata": {},
   "source": [
    "### Alternative stellar mass using a single band and $(M_*/L)_{\\rm pop}$\n",
    "\n",
    "This approach is useful if one has the luminosity in a single band and the population comes from spectrum fitting. I give it here for illustration and cross check.\n",
    "\n",
    "The stellar mass can be obtained using a single band for normalization as follows:\n",
    "\n",
    "- Convert the galaxy flux into apparent $x$-band AB magnitudes $m_x = 25 -2.5 \\lg(f_x)$ following [Muzzin et al. (2013)](https://ui.adsabs.harvard.edu/abs/2013ApJ...777...18M/abstract);\n",
    "- Convert the apparent into absolute magnitude $M_x$ ($d=10$ pc);\n",
    "- Also correct as $1/(1+z)$ for the increase with redshift of the spectrum flux density in $\\mathrm{cgs/Hz}$;\n",
    "- Compute the absolute magnitude of the Sun $M_{\\odot x}$ in the redshifted $x$ band;\n",
    "- Convert the galaxy $M_x$ absolute magnitudes into $L_x$ solar luminosities. Up to here the process is general and does not depend on SED fitting;\n",
    "- Now compute the galaxy stellar $(M_*/L_x)_{\\rm pop}$ from the ``pPXF`` weights;\n",
    "- Finally convert the galaxy luminosity into total stellar mass $M_*=L_x\\times(M_*/L_x)_{\\rm pop}$.\n",
    "\n",
    "This method yields similar but not identical stellar masses when using different $x$-bands, as one can verify by uncommenting different bands below."
   ]
  },
  {
   "cell_type": "code",
   "execution_count": 24,
   "metadata": {},
   "outputs": [
    {
     "name": "stdout",
     "output_type": "stream",
     "text": [
      "(M*/L)=3.540 (COSMOS/SUBARU_filter_z at z=0.6686)\n",
      "Total stellar mass: lg(M*/Msun) = 11.64\n"
     ]
    }
   ],
   "source": [
    "# bandx = 'VISTA/Ks'\n",
    "bandx = 'COSMOS/SUBARU_filter_z'\n",
    "# bandx = 'megaprime/cfht_mega_u'\n",
    "# bandx = 'CAPAK/galex2500'\n",
    "w = bands0 == bandx\n",
    "mag_k = 25 - 2.5*np.log10(phot_galaxy0[w])  # AB mag\n",
    "dist_ratio = cosmo.luminosity_distance(redshift).to('pc').value/10\n",
    "abs_mag_k = mag_k - 2.5*np.log10(dist_ratio**2/(1 + redshift))  # Correct for flux/Hz ~ (1 + z)\n",
    "abs_mag_k_sun = util.solar_mag(bandx, redshift=redshift)\n",
    "lum_k = 10**(0.4*(abs_mag_k_sun - abs_mag_k))\n",
    "ml = libs.mass_to_light(mass_weights, band=bandx, redshift=redshift)\n",
    "lg_mpop = np.log10(lum_k*ml).item()\n",
    "print(f\"Total stellar mass: lg(M*/Msun) = {lg_mpop:.2f}\")\n"
   ]
  },
  {
   "cell_type": "markdown",
   "metadata": {},
   "source": [
    "### Redshift\n",
    "\n",
    "Compute the redshift and its uncertainty (eq. 5 of [Cappellari 2023](https://ui.adsabs.harvard.edu/abs/10.1093/mnras/stad2597))."
   ]
  },
  {
   "cell_type": "code",
   "execution_count": 25,
   "metadata": {},
   "outputs": [
    {
     "name": "stdout",
     "output_type": "stream",
     "text": [
      "Best-fitting redshift: z = 0.668380 +/- 0.000016\n"
     ]
    }
   ],
   "source": [
    "errors = pp.error[0]*np.sqrt(pp.chi2)               # Assume the fit is good: make chi2/DOF=1\n",
    "vpec = pp.sol[0][0]                                 # Stellar velocity is 1st element of 1st kinematics component\n",
    "vcosm = c_kms*np.log(1 + redshift)                  # eq. 5a of Cappellari (2023)\n",
    "vtot = vcosm + vpec                                 # eq. 5b \n",
    "redshift_ppxf = np.exp(vtot/c_kms) - 1              # eq. 5c\n",
    "redshift_err = (redshift_ppxf + 1)*errors[0]/c_kms  # eq. 5d\n",
    "\n",
    "prec = int(1 - np.floor(np.log10(redshift_err)))    # two digits of uncertainty\n",
    "print(f\"Best-fitting redshift: z = {redshift_ppxf:#.{prec}f} +/- {redshift_err:#.{prec}f}\")"
   ]
  },
  {
   "cell_type": "markdown",
   "metadata": {},
   "source": [
    "## Plotting\n",
    "\n",
    "Plot results: photometry and spectroscopy fit, and luminous weight distribution (like Figs. 5 and 6 of [Cappellari 2023](https://ui.adsabs.harvard.edu/abs/10.1093/mnras/stad2597))."
   ]
  },
  {
   "cell_type": "code",
   "execution_count": 26,
   "metadata": {},
   "outputs": [
    {
     "data": {
      "image/png": "[encoded data removed]",
      "text/plain": [
       "<Figure size 815x815 with 4 Axes>"
      ]
     },
     "metadata": {},
     "output_type": "display_data"
    }
   ],
   "source": [
    "# Plot fit results for stars and gas.\n",
    "plt.figure(figsize=(5, 5))\n",
    "\n",
    "# Plot photometry fit\n",
    "plt.subplot(311)\n",
    "pp.plot(gas_clip=1, spec=0, lam_flam=False)\n",
    "plt.title(f\"ID: {id}; {sps_name}; z={redshift_ppxf:.4f}; $S/N$={sn_ppxf:.0f}; regul={regul}, $\\lg M_*$={lg_mpop:.2f}\")\n",
    "\n",
    "# Plot spectrum fit\n",
    "plt.subplot(312)\n",
    "pp.plot(gas_clip=1, phot=0, lam_flam=False)\n",
    "\n",
    "# Plot stellar population light-fraction distribution\n",
    "plt.subplot(313)\n",
    "libs.plot(light_weights, title=\"\", colorbar_label=\"light fraction\")\n",
    "plt.tight_layout()\n"
   ]
  }
 ],
 "metadata": {
  "kernelspec": {
   "display_name": "Python 3 (ipykernel)",
   "language": "python",
   "name": "python3"
  },
  "language_info": {
   "codemirror_mode": {
    "name": "ipython",
    "version": 3
   },
   "file_extension": ".py",
   "mimetype": "text/x-python",
   "name": "python",
   "nbconvert_exporter": "python",
   "pygments_lexer": "ipython3",
   "version": "3.11.6"
  }
 },
 "nbformat": 4,
 "nbformat_minor": 4
}
