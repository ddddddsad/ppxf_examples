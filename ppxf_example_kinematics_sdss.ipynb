{
 "cells": [
  {
   "cell_type": "markdown",
   "id": "760bc429",
   "metadata": {},
   "source": [
    "\n",
    "# pPXF: Stellar kinematics from SDSS spectrum\n",
    "\n",
    "![pPXF](https://www-astro.physics.ox.ac.uk/~cappellari/software/ppxf_logo.svg)\n",
    "\n",
    "## Description\n",
    "\n",
    "Usage example for the procedure pPXF originally described in \n",
    "[Cappellari & Emsellem (2004)](http://adsabs.harvard.edu/abs/2004PASP..116..138C),\n",
    "substantially upgraded in \n",
    "[Cappellari (2017)](http://adsabs.harvard.edu/abs/2017MNRAS.466..798C) \n",
    "and with the inclusion of photometry and linear constraints in \n",
    "[Cappellari (2023)](https://ui.adsabs.harvard.edu/abs/2023MNRAS.526.3273C).\n",
    "\n",
    "This example shows how to tie the kinematics of gas emission lines to study\n",
    "stellar population and gas emission lines.\n",
    "\n",
    "### MODIFICATION HISTORY\n",
    "\n",
    "- V1.0.0: Written by Michele Cappellari, Leiden 11 November 2003\n",
    "- V1.1.0: Log rebin the galaxy spectrum. Show how to correct the velocity\n",
    "      for the difference in starting wavelength of galaxy and templates.\n",
    "      MC, Vicenza, 28 December 2004\n",
    "- V1.1.1: Included explanation of correction for instrumental resolution.\n",
    "      After feedback from David Valls-Gabaud. MC, Venezia, 27 June 2005\n",
    "- V2.0.0: Included example routine to determine the goodPixels vector\n",
    "      by masking known gas emission lines. MC, Oxford, 30 October 2008\n",
    "- V2.0.1: Included instructions for high-redshift usage. Thanks to Paul Westoby\n",
    "      for useful feedback on this issue. MC, Oxford, 27 November 2008\n",
    "- V2.0.2: Included example for obtaining the best-fitting redshift.\n",
    "      MC, Oxford, 14 April 2009\n",
    "- V2.1.0: Bug fix: Force PSF_GAUSSIAN to produce a Gaussian with an odd\n",
    "      number of elements centered on the middle one. Many thanks to\n",
    "      Harald Kuntschner, Eric Emsellem, Anne-Marie Weijmans and\n",
    "      Richard McDermid for reporting problems with small offsets\n",
    "      in systemic velocity. MC, Oxford, 15 February 2010\n",
    "- V2.1.1: Added normalization of galaxy spectrum to avoid numerical\n",
    "      instabilities. After feedback from Andrea Cardullo.\n",
    "      MC, Oxford, 17 March 2010\n",
    "- V2.2.0: Perform templates convolution in linear wavelength.\n",
    "      This is useful for spectra with large wavelength range.\n",
    "      MC, Oxford, 25 March 2010\n",
    "- V2.2.1: Updated for Coyote Graphics. MC, Oxford, 11 October 2011\n",
    "- V2.3.0: Specialized for SDSS spectrum following requests from users.\n",
    "      Renamed PPXF_KINEMATICS_EXAMPLE_SDSS. MC, Oxford, 12 January 2012\n",
    "- V3.0.0: Translated from IDL into Python. MC, Oxford, 10 December 2013\n",
    "- V3.0.1: Uses MILES models library. MC, Oxford 11 December 2013\n",
    "- V3.0.2: Support both Python 2.6/2.7 and Python 3.x. MC, Oxford, 25 May 2014\n",
    "- V3.0.3: Explicitly sort template files as glob() output may not be sorted.\n",
    "      Thanks to Marina Trevisan for reporting problems under Linux.\n",
    "      MC, Sydney, 4 February 2015\n",
    "- V3.0.4: Use redshift in determine_goodpixels. MC, Oxford, 5 May 2015\n",
    "- V3.1.0: Illustrate how to deal with variable instrumental resolution.\n",
    "      Use example galaxy spectrum from SDSS DR12. MC, Oxford, 12 October 2015\n",
    "- V3.1.1: Support both Pyfits and Astropy to read FITS files.\n",
    "      MC, Oxford, 22 October 2015\n",
    "- V3.1.2: Illustrates how to show the wavelength in the plot.\n",
    "      MC, Oxford, 18 May 2016\n",
    "- V3.1.3: Make files paths relative to this file, to run the example from\n",
    "      any directory. MC, Oxford, 18 January 2017\n",
    "- V3.1.4: Updated text on the de-redshifting of the spectrum.\n",
    "      MC, Oxford, 5 October 2017\n",
    "- V3.1.5: Changed imports for pPXF as a package.\n",
    "      Make file paths relative to the pPXF package to be able to run the\n",
    "      example unchanged from any directory. MC, Oxford, 17 April 2018\n",
    "- V3.1.6: Dropped legacy Python 2.7 support. MC, Oxford, 10 May 2018\n",
    "- V3.1.7: Fixed clock DeprecationWarning in Python 3.7.\n",
    "      MC, Oxford, 27 September 2018\n",
    "- V3.2.0: Use E-Miles spectral library. MC, Oxford, 16 March 2022\n",
    "- V3.2.1: Make `velscale` a scalar. MC, Oxford, 4 January 2023\n",
    "- V3.3.0: Make single call of updated log_rebin and new varsmooth for all\n",
    "      templates. MC, Oxford, 31 August 2023\n",
    "- V3.4.0: Use the new `sps_util` instead of `miles_util`. \n",
    "      MC, Oxford, 12 November 2023\n",
    "- V3.5.0: De-redshift the spectrum before the fit. MC, Oxford, 17 May 2024\n",
    "- V3.6.0: Included XSL SPS models. MC, Oxford. 29 may 2024\n",
    "\n",
    "___"
   ]
  },
  {
   "cell_type": "code",
   "execution_count": 1,
   "id": "66d87db8",
   "metadata": {},
   "outputs": [],
   "source": [
    "from time import perf_counter as clock\n",
    "from pathlib import Path\n",
    "from urllib import request\n",
    "\n",
    "from astropy.io import fits\n",
    "import numpy as np\n",
    "import matplotlib.pyplot as plt\n",
    "\n",
    "from ppxf.ppxf import ppxf\n",
    "import ppxf.ppxf_util as util\n",
    "import ppxf.sps_util as lib"
   ]
  },
  {
   "cell_type": "markdown",
   "id": "50cd1b9d",
   "metadata": {},
   "source": [
    "Read SDSS DR12 galaxy spectrum taken from the [SDSS archive](http://www.sdss3.org/dr8/).\n",
    "The spectrum is *already* log rebinned by the SDSS DR8 pipeline and\n",
    "`log_rebin` should not be used in this case."
   ]
  },
  {
   "cell_type": "code",
   "execution_count": 2,
   "id": "6a8c69fe",
   "metadata": {},
   "outputs": [],
   "source": [
    "ppxf_dir = Path(util.__file__).parent\n",
    "filename = ppxf_dir / 'spectra' / 'NGC4636_SDSS_DR12.fits'\n",
    "hdu = fits.open(filename)\n",
    "t = hdu['COADD'].data\n",
    "redshift_0 = 0.003129   # SDSS redshift estimate\n",
    "\n",
    "galaxy = t['flux']/np.median(t['flux'])     # Normalize spectrum to avoid numerical issues\n",
    "ln_lam_gal = t['loglam']*np.log(10)         # Convert lg --> ln\n",
    "lam_gal = np.exp(ln_lam_gal)                # Wavelength in Angstroms"
   ]
  },
  {
   "cell_type": "markdown",
   "id": "7ceb08b6",
   "metadata": {},
   "source": [
    "Compute the velocity scale of the SDSS spectrum using eq. (8) of \n",
    "[Cappellari (2017)](http://adsabs.harvard.edu/abs/2017MNRAS.466..798C)"
   ]
  },
  {
   "cell_type": "code",
   "execution_count": 3,
   "id": "e57fea0c",
   "metadata": {},
   "outputs": [],
   "source": [
    "c = 299792.458                              # speed of light in km/s\n",
    "d_ln_lam_gal = (ln_lam_gal[-1] - ln_lam_gal[0])/(ln_lam_gal.size - 1)  # Use full lam range for accuracy\n",
    "velscale = c*d_ln_lam_gal                   # Velocity scale in km/s per pixel (eq.8 of Cappellari 2017)\n",
    "noise = np.full_like(galaxy, 0.0166)        # Assume constant noise per pixel here"
   ]
  },
  {
   "cell_type": "markdown",
   "id": "31161035",
   "metadata": {},
   "source": [
    "Compute instrumental FWHM for every pixel in Angstroms"
   ]
  },
  {
   "cell_type": "code",
   "execution_count": 4,
   "id": "cfe9084a",
   "metadata": {},
   "outputs": [],
   "source": [
    "dlam_gal = np.gradient(lam_gal)             # Size of every pixel in Angstroms\n",
    "wdisp = t['wdisp']                          # Intrinsic dispersion of every pixel, in pixels units\n",
    "fwhm_gal = 2.355*wdisp*dlam_gal             # Resolution FWHM of every pixel, in Angstroms"
   ]
  },
  {
   "cell_type": "markdown",
   "id": "13c75722",
   "metadata": {},
   "source": [
    "In general, especially at significant redshift, it is easier to bring the\n",
    "galaxy spectrum roughly to the rest-frame wavelength, before calling pPXF\n",
    "(See Sec.2.4 of [Cappellari (2017)](http://adsabs.harvard.edu/abs/2017MNRAS.466..798C)). \n",
    "In practice there is no need to modify the spectrum in any way, given that a\n",
    "red shift corresponds to a linear shift of the log-rebinned spectrum. One\n",
    "just needs to compute the wavelength range in the rest-frame and adjust the\n",
    "instrumental resolution of the galaxy observations."
   ]
  },
  {
   "cell_type": "code",
   "execution_count": 5,
   "id": "bb4d95ce",
   "metadata": {},
   "outputs": [],
   "source": [
    "lam_gal = lam_gal/(1 + redshift_0)      # Compute approximate restframe wavelength\n",
    "fwhm_gal = fwhm_gal/(1 + redshift_0)    # Adjust resolution in Angstroms"
   ]
  },
  {
   "cell_type": "markdown",
   "id": "d2e0b3b5",
   "metadata": {},
   "source": [
    "## Setup stellar templates \n",
    "\n",
    "pPXF can be used with any set of SPS population templates. However, I am\n",
    "currently providing (with permission) ready-to-use template files for\n",
    "four SPS. One can just uncomment one of the four models below. The\n",
    "included files are only a subset of the SPS that can be produced with the\n",
    "models, and one should use the relevant software/website to produce\n",
    "different sets of SPS templates if needed.\n",
    "\n",
    "1. If you use the [fsps v3.2](https://github.com/cconroy20/fsps) SPS model\n",
    "   templates, please also cite in your paper \n",
    "   [Conroy et al. (2009)](https://ui.adsabs.harvard.edu/abs/2009ApJ...699..486C) and\n",
    "   [Conroy et al. (2009)](https://ui.adsabs.harvard.edu/abs/2010ApJ...712..833C).\n",
    "\n",
    "2. If you use the [GALAXEV v2020](http://www.bruzual.org/bc03/) SPS model \n",
    "   templates, please also cite in your paper \n",
    "   [Bruzual & Charlot (2003)](https://ui.adsabs.harvard.edu/abs/2003MNRAS.344.1000B).\n",
    "\n",
    "3. If you use the [E-MILES](http://miles.iac.es/) SPS model templates,\n",
    "   please also cite  in your paper \n",
    "   [Vazdekis et al. (2016)](https://ui.adsabs.harvard.edu/abs/2016MNRAS.463.3409V).\n",
    "   <font color=\"red\">WARNING: The E-MILES models only include SPS with age > 63 Myr and\n",
    "   are not recommended for highly star forming galaxies.</font>\n",
    "\n",
    "4. If you use the [X-Shooter Spectral Library (XSL)](http://xsl.u-strasbg.fr/) \n",
    "   SPS model templates, please also cite in your paper \n",
    "   [Verro et al. (2022)](https://ui.adsabs.harvard.edu/abs/2022A%26A...661A..50V). \n",
    "   <font color=\"red\">WARNING: The XSL models only include SPS with age > 50 Myr and\n",
    "   are not recommended for highly star forming galaxies.</font>"
   ]
  },
  {
   "cell_type": "code",
   "execution_count": 6,
   "id": "e8b7e5a6",
   "metadata": {},
   "outputs": [],
   "source": [
    "# sps_name = 'fsps'\n",
    "# sps_name = 'galaxev'\n",
    "sps_name = 'emiles'\n",
    "# sps_name = 'xsl'"
   ]
  },
  {
   "cell_type": "markdown",
   "id": "ea7ca783",
   "metadata": {},
   "source": [
    "Read SPS models file from my GitHub if not already in the `pPXF` package dir.\n",
    "The SPS model files are also available on my [GitHub Page](https://github.com/micappe/ppxf_data)."
   ]
  },
  {
   "cell_type": "code",
   "execution_count": 7,
   "id": "0da8bdfa",
   "metadata": {},
   "outputs": [],
   "source": [
    "basename = f\"spectra_{sps_name}_9.0.npz\"\n",
    "filename = ppxf_dir / 'sps_models' / basename\n",
    "if not filename.is_file():\n",
    "    url = \"https://raw.githubusercontent.com/micappe/ppxf_data/main/\" + basename\n",
    "    request.urlretrieve(url, filename)"
   ]
  },
  {
   "cell_type": "markdown",
   "id": "1c6faf29",
   "metadata": {},
   "source": [
    "The templates span a much larger wavelength range. To save some\n",
    "computation time, I truncate the spectra to a similar but slightly larger\n",
    "range than the galaxy. \n",
    "NB: only MILES and XSL have high resolution beyond 7500A. For the other\n",
    "libraries one should restrict the fit to 7500A."
   ]
  },
  {
   "cell_type": "code",
   "execution_count": 8,
   "id": "14798ace",
   "metadata": {},
   "outputs": [
    {
     "name": "stdout",
     "output_type": "stream",
     "text": [
      "WARNING: Template's resolution dlam is larger than galaxy's at some wavelengths.This is not necessarily a problem as these may be outside the fitted range.\n"
     ]
    }
   ],
   "source": [
    "lam_range_temp = [3500, 1e4]\n",
    "fwhm_gal = {\"lam\": lam_gal, \"fwhm\": fwhm_gal}\n",
    "\n",
    "sps = lib.sps_lib(filename, velscale, fwhm_gal, wave_range=lam_range_temp)\n",
    "\n",
    "goodpixels = util.determine_goodpixels(np.log(lam_gal), lam_range_temp)"
   ]
  },
  {
   "cell_type": "markdown",
   "id": "1e3228b8",
   "metadata": {},
   "source": [
    "## pPXF fitting\n",
    "\n",
    "Here the actual fit starts. The best fit is plotted on the screen. Gas\n",
    "emission lines are excluded from the pPXF fit using the `goodpixels` keyword."
   ]
  },
  {
   "cell_type": "code",
   "execution_count": 9,
   "id": "c0db5977",
   "metadata": {},
   "outputs": [
    {
     "name": "stdout",
     "output_type": "stream",
     "text": [
      " Best Fit:       Vel     sigma        h3        h4\n",
      " comp.  0:        67       223    -0.023     0.084\n",
      "chi2/DOF: 0.8808; DOF: 3617; degree = 20; mdegree = 0\n",
      "method = capfit; Jac calls: 3; Func calls: 17; Status: 2\n",
      "linear_method = lsq_box; Nonzero Templates (>0.1%): 3/150\n",
      "Elapsed time in pPXF: 1.29 s\n"
     ]
    }
   ],
   "source": [
    "c = 299792.458          # km/s\n",
    "vel = 0                 # Spectrum is de-redshifted --> starting guess is zero\n",
    "start = [vel, 200.]     # (km/s), starting guess for [V, sigma]\n",
    "t = clock()\n",
    "pp = ppxf(sps.templates, galaxy, noise, velscale, start,\n",
    "            goodpixels=goodpixels, plot=False, moments=4, trig=1,\n",
    "            degree=20, lam=lam_gal, lam_temp=sps.lam_temp)\n",
    "print('Elapsed time in pPXF: %.2f s' % (clock() - t))"
   ]
  },
  {
   "cell_type": "markdown",
   "id": "1a7076e0",
   "metadata": {},
   "source": [
    "The updated best-fitting redshift is given by the following\n",
    "lines (using equations 5 of [Cappellari (2023, C23)](https://ui.adsabs.harvard.edu/abs/2023MNRAS.526.3273C)."
   ]
  },
  {
   "cell_type": "code",
   "execution_count": 10,
   "id": "b6058bdc",
   "metadata": {},
   "outputs": [
    {
     "name": "stdout",
     "output_type": "stream",
     "text": [
      "Formal errors:\n",
      "     dV    dsigma   dh3      dh4\n",
      "     2.4     3.2  0.0086    0.01\n",
      "Best-fitting redshift z = 0.0033516 +/- 0.0000080\n"
     ]
    },
    {
     "data": {
      "image/png": "[encoded data removed]",
      "text/plain": [
       "<Figure size 640x480 with 1 Axes>"
      ]
     },
     "metadata": {},
     "output_type": "display_data"
    }
   ],
   "source": [
    "errors = pp.error*np.sqrt(pp.chi2)  # Assume the fit is good chi2/DOF=1\n",
    "redshift_fit = (1 + redshift_0)*np.exp(pp.sol[0]/c) - 1     # eq. (5c) C23\n",
    "redshift_err = (1 + redshift_fit)*errors[0]/c               # eq. (5d) C23\n",
    "\n",
    "print(\"Formal errors:\")\n",
    "print(\"     dV    dsigma   dh3      dh4\")\n",
    "print(\"\".join(\"%8.2g\" % f for f in errors))\n",
    "prec = int(1 - np.floor(np.log10(redshift_err)))  # two digits of uncertainty\n",
    "print(f\"Best-fitting redshift z = {redshift_fit:#.{prec}f} \"\n",
    "        f\"+/- {redshift_err:#.{prec}f}\")\n",
    "\n",
    "pp.plot()\n",
    "plt.pause(5);"
   ]
  }
 ],
 "metadata": {
  "jupytext": {
   "cell_metadata_filter": "-all",
   "formats": "py:percent,ipynb",
   "main_language": "python"
  },
  "kernelspec": {
   "display_name": "base",
   "language": "python",
   "name": "python3"
  },
  "language_info": {
   "codemirror_mode": {
    "name": "ipython",
    "version": 3
   },
   "file_extension": ".py",
   "mimetype": "text/x-python",
   "name": "python",
   "nbconvert_exporter": "python",
   "pygments_lexer": "ipython3",
   "version": "3.12.3"
  }
 },
 "nbformat": 4,
 "nbformat_minor": 5
}
