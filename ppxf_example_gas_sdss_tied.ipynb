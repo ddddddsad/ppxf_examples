{
 "cells": [
  {
   "cell_type": "markdown",
   "id": "e6fb9e39",
   "metadata": {},
   "source": [
    "\n",
    "# pPXF: Tied gas emission lines and stellar population\n",
    "\n",
    "![pPXF](https://www-astro.physics.ox.ac.uk/~cappellari/software/ppxf_logo.svg)\n",
    "\n",
    "## Description\n",
    "\n",
    "Usage example for the procedure pPXF originally described in \n",
    "[Cappellari & Emsellem (2004)](http://adsabs.harvard.edu/abs/2004PASP..116..138C),\n",
    "substantially upgraded in \n",
    "[Cappellari (2017)](http://adsabs.harvard.edu/abs/2017MNRAS.466..798C) \n",
    "and with the inclusion of photometry and linear constraints in \n",
    "[Cappellari (2023)](https://ui.adsabs.harvard.edu/abs/2023MNRAS.526.3273C).\n",
    "\n",
    "This example shows how to tie the kinematics of gas emission lines to study\n",
    "stellar population and gas emission lines.\n",
    "\n",
    "### MODIFICATION HISTORY\n",
    "\n",
    " - V1.0.0: Adapted from `ppxf_kinematic_example`.\n",
    "      Michele Cappellari, Oxford, 12 October 2011\n",
    " - V1.1.0: Made a separate routine for the construction of the templates\n",
    "      spectral library. MC, Vicenza, 11 October 2012\n",
    " - V1.1.1: Includes `regul_error` definition. MC, Oxford, 15 November 2012\n",
    " - V2.0.0: Translated from IDL into Python. MC, Oxford, 6 December 2013\n",
    " - V2.0.1: Fit SDSS rather than SAURON spectrum. MC, Oxford, 11 December 2013\n",
    " - V2.1.0: Includes gas emission as templates instead of masking the spectrum.\n",
    "      MC, Oxford, 7 January 2014\n",
    " - V2.1.1: Support both Python 2.6/2.7 and Python 3.x. MC, Oxford, 25 May 2014\n",
    " - V2.1.2: Illustrates how to print and plot emission lines.\n",
    "      MC, Oxford, 5 August 2014\n",
    " - V2.1.3: Only includes emission lines falling within the fitted wavelength\n",
    "      range. MC, Oxford, 3 September 2014\n",
    " - V2.1.4: Explicitly sort template files as `glob()` output may not be sorted.\n",
    "      Thanks to Marina Trevisan for reporting problems under Linux.\n",
    "      MC, Sydney, 4 February 2015\n",
    " - V2.1.5: Included `origin='upper'` in `imshow()`. Thanks to Richard McDermid\n",
    "      for reporting a different default value with older Matplotlib versions.\n",
    "      MC, Oxford, 17 February 2015\n",
    " - V2.1.6: Use `color=` instead of `c=` to avoid new Matplotlib bug.\n",
    "      MC, Oxford, 25 February 2015\n",
    " - V2.1.7: Uses Pyfits from Astropy to read FITS files.\n",
    "      MC, Oxford, 22 October 2015\n",
    " - V2.1.8: Included treatment of the SDSS/MILES vacuum/air wavelength difference.\n",
    "      MC, Oxford, 12 August 2016\n",
    " - V2.1.9: Automate and test computation of nAge and nMetals.\n",
    "      MC, Oxford 1 November 2016\n",
    " - V3.0.0: Major upgrade. Compute mass-weighted population parameters and M/L\n",
    "      using the new `miles` class which leaves no room for user mistakes.\n",
    "      MC, Oxford, 2 December 2016\n",
    " - V3.0.1: Make files paths relative to this file, to run the example from\n",
    "      any directory. MC, Oxford, 18 January 2017\n",
    " - V3.1.1: Use `ppxf` method `pp.plot(gas_component=...)` to produce gas emission\n",
    "      lines plot. MC, Oxford, 13 March 2017\n",
    " - V3.2.0: Illustrates how to tie gas emission lines for MaNGA DAP MPL-6.\n",
    "      MC, Oxford, 2 June 2017\n",
    " - V3.3.0: Adapted to work with ppxf package v8.2.\n",
    "      Included both `tied` and `constr_kinem`.\n",
    "      MC, Oxford, 10 October 2022\n",
    " - V3.4.0: Use the new `sps_util` instead of `miles_util`. \n",
    "      MC, Oxford, 12 November 2023\n",
    " - V3.5.0: Included XSL SPS models. MC, Oxford. 29 may 2024\n",
    "\n",
    "___"
   ]
  },
  {
   "cell_type": "code",
   "execution_count": 1,
   "id": "33cbfc67",
   "metadata": {},
   "outputs": [],
   "source": [
    "from time import perf_counter as clock\n",
    "from pathlib import Path\n",
    "from urllib import request\n",
    "\n",
    "import numpy as np\n",
    "import matplotlib.pyplot as plt\n",
    "from astropy.io import fits\n",
    "\n",
    "from ppxf.ppxf import ppxf\n",
    "import ppxf.ppxf_util as util\n",
    "import ppxf.sps_util as lib"
   ]
  },
  {
   "cell_type": "markdown",
   "id": "309264fa",
   "metadata": {},
   "source": [
    "Read SDSS DR8 galaxy spectrum taken from here http://www.sdss3.org/dr8/.\n",
    "The spectrum is *already* log rebinned by the SDSS DR8\n",
    "pipeline and `log_rebin` should not be used in this case.\n"
   ]
  },
  {
   "cell_type": "code",
   "execution_count": 2,
   "id": "352f7868",
   "metadata": {},
   "outputs": [],
   "source": [
    "ppxf_dir = Path(lib.__file__).parent\n",
    "file = ppxf_dir / 'spectra' / 'NGC3073_SDSS_DR8.fits'\n",
    "hdu = fits.open(file)\n",
    "t = hdu[1].data\n",
    "redshift = float(hdu[1].header[\"Z\"]) # SDSS redshift estimate"
   ]
  },
  {
   "cell_type": "markdown",
   "id": "c83836ba",
   "metadata": {},
   "source": [
    "Only use the MILES stars wavelength range, with prominent gas emission lines"
   ]
  },
  {
   "cell_type": "code",
   "execution_count": 3,
   "id": "9f72db8c",
   "metadata": {},
   "outputs": [],
   "source": [
    "wave_range = [3540, 7409]\n",
    "mask = (t['wavelength'] > wave_range[0]) & (t['wavelength'] < wave_range[1])\n",
    "flux = t['flux'][mask]\n",
    "galaxy = flux/np.median(flux)   # Normalize spectrum to avoid numerical issues\n",
    "wave = t['wavelength'][mask]    # Wavelength is logarithmically sampled"
   ]
  },
  {
   "cell_type": "markdown",
   "id": "ce66a6a4",
   "metadata": {},
   "source": [
    "The SDSS wavelengths are in vacuum, while the MILES ones are in air.\n",
    "For a rigorous treatment, the SDSS vacuum wavelengths should be\n",
    "converted into air wavelengths and the spectra should be resampled.\n",
    "To avoid resampling, given that the wavelength dependence of the\n",
    "correction is very weak, I approximate it with a constant factor."
   ]
  },
  {
   "cell_type": "code",
   "execution_count": 4,
   "id": "b8e39dbb",
   "metadata": {},
   "outputs": [],
   "source": [
    "wave *= np.median(util.vac_to_air(wave)/wave)"
   ]
  },
  {
   "cell_type": "markdown",
   "id": "282c2e0a",
   "metadata": {},
   "source": [
    "The noise level is chosen to give `Chi^2/DOF=1` without regularization (`regul=0`).\n",
    "A constant noise is not a bad approximation in the fitted wavelength\n",
    "range and reduces the noise in the fit."
   ]
  },
  {
   "cell_type": "code",
   "execution_count": 5,
   "id": "4d8dfc08",
   "metadata": {},
   "outputs": [],
   "source": [
    "noise = np.full_like(galaxy, 0.01635)           # Assume constant noise per pixel here"
   ]
  },
  {
   "cell_type": "markdown",
   "id": "ce762e48",
   "metadata": {},
   "source": [
    "The velocity step was already chosen by the SDSS pipeline,\n",
    "and we convert it below to km/s"
   ]
  },
  {
   "cell_type": "code",
   "execution_count": 6,
   "id": "a4e35181",
   "metadata": {},
   "outputs": [],
   "source": [
    "c = 299792.458 # speed of light in km/s\n",
    "velscale = c*np.log(wave[1]/wave[0])\n",
    "FWHM_gal = 2.76 # SDSS has an approximate instrumental resolution FWHM of 2.76A."
   ]
  },
  {
   "cell_type": "markdown",
   "id": "523125fe",
   "metadata": {},
   "source": [
    "## Setup stellar templates \n",
    "\n",
    "pPXF can be used with any set of SPS population templates. However, I am\n",
    "currently providing (with permission) ready-to-use template files for\n",
    "four SPS. One can just uncomment one of the four models below. The\n",
    "included files are only a subset of the SPS that can be produced with the\n",
    "models, and one should use the relevant software/website to produce\n",
    "different sets of SPS templates if needed.\n",
    "\n",
    "1. If you use the [fsps v3.2](https://github.com/cconroy20/fsps) SPS model\n",
    "   templates, please also cite in your paper \n",
    "   [Conroy et al. (2009)](https://ui.adsabs.harvard.edu/abs/2009ApJ...699..486C) and\n",
    "   [Conroy et al. (2009)](https://ui.adsabs.harvard.edu/abs/2010ApJ...712..833C).\n",
    "\n",
    "2. If you use the [GALAXEV v2020](http://www.bruzual.org/bc03/) SPS model \n",
    "   templates, please also cite in your paper \n",
    "   [Bruzual & Charlot (2003)](https://ui.adsabs.harvard.edu/abs/2003MNRAS.344.1000B).\n",
    "\n",
    "3. If you use the [E-MILES](http://miles.iac.es/) SPS model templates,\n",
    "   please also cite  in your paper \n",
    "   [Vazdekis et al. (2016)](https://ui.adsabs.harvard.edu/abs/2016MNRAS.463.3409V).\n",
    "   <font color=\"red\">WARNING: The E-MILES models only include SPS with age > 63 Myr and\n",
    "   are not recommended for highly star forming galaxies.</font>\n",
    "\n",
    "4. If you use the [X-Shooter Spectral Library (XSL)](http://xsl.u-strasbg.fr/) \n",
    "   SPS model templates, please also cite in your paper \n",
    "   [Verro et al. (2022)](https://ui.adsabs.harvard.edu/abs/2022A%26A...661A..50V). \n",
    "   <font color=\"red\">WARNING: The XSL models only include SPS with age > 50 Myr and\n",
    "   are not recommended for highly star forming galaxies.</font>"
   ]
  },
  {
   "cell_type": "code",
   "execution_count": 7,
   "id": "c65e5136",
   "metadata": {},
   "outputs": [],
   "source": [
    "# sps_name = 'fsps'\n",
    "# sps_name = 'galaxev'\n",
    "sps_name = 'emiles'\n",
    "# sps_name = 'xsl'"
   ]
  },
  {
   "cell_type": "markdown",
   "id": "8f286317",
   "metadata": {},
   "source": [
    "Read SPS models file from my GitHub if not already in the ppxf package dir.\n",
    "The SPS model files are also available on my [GitHub Page](https://github.com/micappe/ppxf_data)."
   ]
  },
  {
   "cell_type": "code",
   "execution_count": 8,
   "id": "cbacc1b2",
   "metadata": {},
   "outputs": [
    {
     "name": "stdout",
     "output_type": "stream",
     "text": [
      "WARNING: Template's resolution dlam is larger than galaxy's at some wavelengths.This is not necessarily a problem as these may be outside the fitted range.\n"
     ]
    }
   ],
   "source": [
    "basename = f\"spectra_{sps_name}_9.0.npz\"\n",
    "filename = ppxf_dir / 'sps_models' / basename\n",
    "if not filename.is_file():\n",
    "    url = \"https://raw.githubusercontent.com/micappe/ppxf_data/main/\" + basename\n",
    "    request.urlretrieve(url, filename)\n",
    "\n",
    "sps = lib.sps_lib(filename, velscale, FWHM_gal)\n",
    "\n",
    "stars_templates = sps.templates.reshape(sps.templates.shape[0], -1)"
   ]
  },
  {
   "cell_type": "markdown",
   "id": "adf5457a",
   "metadata": {},
   "source": [
    "Construct a set of Gaussian emission line templates.\n",
    "Estimate the wavelength fitted range in the rest frame."
   ]
  },
  {
   "cell_type": "code",
   "execution_count": 9,
   "id": "f57d1474",
   "metadata": {},
   "outputs": [
    {
     "name": "stdout",
     "output_type": "stream",
     "text": [
      "Emission lines included in gas templates:\n",
      "['H10' 'H9' 'H8' 'Heps' 'Hdelta' 'Hgamma' 'Hbeta' 'Halpha' '[SII]6716'\n",
      " '[SII]6731' '[NeIII]3968' '[NeIII]3869' 'HeII4687' 'HeI5876'\n",
      " '[OIII]5007_d' '[OI]6300_d' '[NII]6583_d']\n"
     ]
    }
   ],
   "source": [
    "lam_range_gal = np.array([np.min(wave), np.max(wave)])/(1 + redshift)\n",
    "gas_templates, gas_names, gas_wave = \\\n",
    "    util.emission_lines(sps.ln_lam_temp, lam_range_gal, FWHM_gal)"
   ]
  },
  {
   "cell_type": "markdown",
   "id": "5a2c2dec",
   "metadata": {},
   "source": [
    "Combines the stellar and gaseous templates into a single array\n",
    "during the PPXF fit, they will be assigned a different kinematic\n",
    "`component` value"
   ]
  },
  {
   "cell_type": "code",
   "execution_count": 10,
   "id": "79bd1943",
   "metadata": {},
   "outputs": [],
   "source": [
    "templates = np.column_stack([stars_templates, gas_templates])\n",
    "\n",
    "n_temps = stars_templates.shape[1]"
   ]
  },
  {
   "cell_type": "markdown",
   "id": "a70d9418",
   "metadata": {},
   "source": [
    "## pPXF fit \n",
    "\n",
    "The important formula below **defines** the relation between velocity,\n",
    "wavelength and redshift in ``pPXF`` (eq. 8 of \n",
    "[Cappellari 2017](https://ui.adsabs.harvard.edu/abs/2017MNRAS.466..798C))\n",
    "I use it below to get an estimate of the stellar kinematics [V, sigma] starting\n",
    "from an approximate galaxy redshift.\n",
    "\n",
    "$$V\\equiv c\\Delta\\ln\\lambda = c\\ln(1+z)$$"
   ]
  },
  {
   "cell_type": "code",
   "execution_count": 11,
   "id": "d164b36e",
   "metadata": {},
   "outputs": [],
   "source": [
    "vel0 = c*np.log(1 + redshift)\n",
    "sol = [vel0, 200]"
   ]
  },
  {
   "cell_type": "markdown",
   "id": "752ae795",
   "metadata": {},
   "source": [
    "- All stellar templates are in the same `component=0`. \n",
    "- The Balmer lines share the same LOSVD and are assigned the same kinematic `component=1`. \n",
    "- The other lines are assigned to their own `component=2--8`. \n",
    "- Both lines of doublets with fixed 1/3 ratio are in the same kinematic `component=6--8`.\n",
    "\n",
    "This is the full list of components: \n",
    "\n",
    "0. component: Stellar kinematics\n",
    "1. component: 'H10' 'H9' 'H8' 'Heps' 'Hdelta' 'Hgamma' 'Hbeta' 'Halpha'\n",
    "2. component: '[SII]6716' '[SII]6731'\n",
    "3. component: '[NeIII]3968' '[NeIII]3869'\n",
    "4. component: 'HeII4687'\n",
    "5. component: 'HeI5876'\n",
    "6. component: '[OIII]5007_d'\n",
    "7. component: '[OI]6300_d'\n",
    "8. component: '[NII]6583_d'\n"
   ]
  },
  {
   "cell_type": "code",
   "execution_count": 12,
   "id": "4a84cafe",
   "metadata": {},
   "outputs": [],
   "source": [
    "component = [0]*n_temps  # Single stellar kinematic component=0 for all templates\n",
    "component += [1]*8\n",
    "component += [2, 2, 3, 3, 4, 5, 6, 7, 8]\n",
    "component = np.array(component)"
   ]
  },
  {
   "cell_type": "markdown",
   "id": "94a2f891",
   "metadata": {},
   "source": [
    "Fit two `moments=2` (V, sigma) for all 9 kinematic components."
   ]
  },
  {
   "cell_type": "code",
   "execution_count": 13,
   "id": "e83f44d3",
   "metadata": {},
   "outputs": [],
   "source": [
    "moments = [2]*9"
   ]
  },
  {
   "cell_type": "markdown",
   "id": "eecf7087",
   "metadata": {},
   "source": [
    "The next command produces a list of `start` starting guesses, one for each component:\n",
    "\n",
    "0. [V0, sig0] stellar kinematics\n",
    "1. [V1, sig1] Balmer lines kinematics\n",
    "2. [V2, sig2] '[SII]6716' '[SII]6731'\n",
    "3. [V3, sig3] '[NeIII]3968' '[NeIII]3869'\n",
    "4. [V4, sig4] 'HeII4687'\n",
    "5. [V5, sig5] 'HeI5876'\n",
    "6. [V6, sig6] '[OIII]5007_d'\n",
    "7. [V7, sig7] '[OI]6300_d'\n",
    "8. [V8, sig8] '[NII]6583_d'"
   ]
  },
  {
   "cell_type": "code",
   "execution_count": 14,
   "id": "2da376ec",
   "metadata": {},
   "outputs": [],
   "source": [
    "start = [sol for j in range(len(moments))]  # adopt the same starting value for both gas and stars"
   ]
  },
  {
   "cell_type": "markdown",
   "id": "68d1f03a",
   "metadata": {},
   "source": [
    "Set the *equality* constraint that V of all `components 3--8` is equal to V2, which is parameter no.4 (`p[0]=V0, p[1]=sig0, p[2]=V1, p[3]=sig1, p[4]=V2`).\n",
    "This implies that the final pPXF solution will be a list:\n",
    "\n",
    "0. [V0, sig0]  stellar kinematics\n",
    "1. [V1, sig1]  Balmer lines kinematics\n",
    "2. [V2, sig2]  '[SII]6716' '[SII]6731'\n",
    "3. [V2, sig3]  '[NeIII]3968' '[NeIII]3869'\n",
    "4. [V2, sig4]  'HeII4687'\n",
    "5. [V2, sig5]  'HeI5876'\n",
    "6. [V2, sig6]  '[OIII]5007_d'\n",
    "7. [V2, sig7]  '[OI]6300_d'\n",
    "8. [V2, sig8]  '[NII]6583_d'"
   ]
  },
  {
   "cell_type": "code",
   "execution_count": 15,
   "id": "3d03cfc8",
   "metadata": {},
   "outputs": [],
   "source": [
    "tied = [['', ''] for j in range(len(moments))]\n",
    "for j in range(3, len(moments)):\n",
    "    tied[j][0] = 'p[4]'"
   ]
  },
  {
   "cell_type": "markdown",
   "id": "836c2bc8",
   "metadata": {},
   "source": [
    "In addition, I set the *inequality* constrain that the sigma of the gas lines\n",
    "must be smaller than 2x the stellar sigma. This is to prevent nearly-undetected\n",
    "gas lines, which are unconstrained by the data, to become unrealistically broad\n",
    "and mimic the effect of a smooth stellar continuum. For this, I set the\n",
    "constraint that the velocity dispersion of the gas `component=1--8` must be\n",
    "less than twice the sigma of the stars `component=0`. In formulas, I want to\n",
    "have:\n",
    "\n",
    "$$\n",
    "\\begin{cases}\n",
    "\\sigma_1 < 2\\sigma_0\\\\\n",
    "\\sigma_2 < 2\\sigma_0\\\\\n",
    "\\vdots\\\\\n",
    "\\sigma_8 < 2\\sigma_0\n",
    "\\end{cases}\n",
    "$$\n",
    "\n",
    "Following standard practice in numerical optimization (e.g.\n",
    "[HERE](https://uk.mathworks.com/help/optim/ug/linear-constraints.html)), I\n",
    "express these two inequalities as linear constraints in matrix form as this\n",
    "leads to an efficient optimization algorithm, with guaranteed local\n",
    "convergence:\n",
    "\n",
    "$$\\mathbf{A}_{\\rm ineq}\\cdot \\mathbf{p} < \\mathbf{b}_{\\rm ineq}.$$\n",
    "\n",
    "In this example, the vector of nonlinear kinematic parameters is\n",
    "$\\mathbf{p}=[V_0, \\sigma_0, V_1, \\sigma_1, \\ldots V_8, \\sigma_8]$\n",
    "(following the same order of the `start` parameter of `pPXF`) and I can write\n",
    "the above matrix equation explicitly as\n",
    "\n",
    "$$\n",
    "\\begin{bmatrix}\n",
    "0 & -2 & 0 & 1 & 0 & 0 & 0 & \\ldots & 0\\\\\n",
    "0 & -2 & 0 & 0 & 1 & 0 & 0 &  & 0\\\\\n",
    "0 & -2 & 0 & 0 & 0 & 1 & 0 &  & 0\\\\\n",
    "0 & -2 & 0 & 0 & 0 & 0 & 1 &  & 0\\\\\n",
    "\\vdots &  &  &  &  &  &  &   \\ddots & \\vdots \\\\\n",
    "0 & -2 & 0 & 0 & 0 & 0 & 0 & \\ldots & 1\\\\\n",
    "\\end{bmatrix}\n",
    "\\cdot\n",
    "\\begin{bmatrix}\n",
    "V_0 \\\\\n",
    "\\sigma_0 \\\\\n",
    "V_1 \\\\\n",
    "\\sigma_1\\\\\n",
    "\\vdots \\\\\n",
    "V_8 \\\\\n",
    "\\sigma_8\n",
    "\\end{bmatrix}\n",
    "<\n",
    "\\begin{bmatrix}\n",
    "0 \\\\\n",
    "0 \\\\\n",
    "\\vdots\\\\\n",
    "0 \\\\\n",
    "\\end{bmatrix}.\n",
    "$$\n",
    "\n",
    "This translates into the following Python code"
   ]
  },
  {
   "cell_type": "code",
   "execution_count": 16,
   "id": "6e25fa5e",
   "metadata": {
    "lines_to_next_cell": 2
   },
   "outputs": [],
   "source": [
    "#          V0 s0 V1 s1 V2 s2 V3 s3 V4 s4 V5 s5 V6 s6 V7 s7 V8 s8\n",
    "A_ineq = [[0, -2, 0, 1, 0, 0, 0, 0, 0, 0, 0, 0, 0, 0, 0, 0, 0, 0],  # -2*s0 + s1 < 0 => s1 < 2*s0\n",
    "          [0, -2, 0, 0, 0, 1, 0, 0, 0, 0, 0, 0, 0, 0, 0, 0, 0, 0],  # s2 < 2*s0\n",
    "          [0, -2, 0, 0, 0, 0, 0, 1, 0, 0, 0, 0, 0, 0, 0, 0, 0, 0],  # s3 < 2*s0\n",
    "          [0, -2, 0, 0, 0, 0, 0, 0, 0, 1, 0, 0, 0, 0, 0, 0, 0, 0],  # s4 < 2*s0\n",
    "          [0, -2, 0, 0, 0, 0, 0, 0, 0, 0, 0, 1, 0, 0, 0, 0, 0, 0],  # s5 < 2*s0\n",
    "          [0, -2, 0, 0, 0, 0, 0, 0, 0, 0, 0, 0, 0, 1, 0, 0, 0, 0],  # s6 < 2*s0\n",
    "          [0, -2, 0, 0, 0, 0, 0, 0, 0, 0, 0, 0, 0, 0, 0, 1, 0, 0],  # s7 < 2*s0\n",
    "          [0, -2, 0, 0, 0, 0, 0, 0, 0, 0, 0, 0, 0, 0, 0, 0, 0, 1]]  # s8 < 2*s0\n",
    "b_ineq = [0, 0, 0, 0, 0, 0, 0, 0]\n",
    "constr_kinem = {\"A_ineq\": A_ineq, \"b_ineq\": b_ineq}"
   ]
  },
  {
   "cell_type": "code",
   "execution_count": 17,
   "id": "fa567928",
   "metadata": {},
   "outputs": [
    {
     "name": "stdout",
     "output_type": "stream",
     "text": [
      " Best Fit:       Vel     sigma\n",
      " comp.  0:      1146        25\n",
      " comp.  1:      1151        51\n",
      " comp.  2:      1155        48\n",
      " comp.  3:      1155         1\n",
      " comp.  4:      1155        51\n",
      " comp.  5:      1155        51\n",
      " comp.  6:      1155         1\n",
      " comp.  7:      1155         1\n",
      " comp.  8:      1155        51\n",
      "Stars Attenuation A_V: 0.060\n",
      "chi2/DOF: 0.8245; DOF: 2882; degree = -1; mdegree = 10\n",
      "method = capfit; Jac calls: 5; Func calls: 122; Status: 2\n",
      "linear_method = lsq_box; Nonzero Templates (>0.1%): 20/167\n",
      "Tied parameters:\n",
      " p[6] = p[4]\n",
      " p[8] = p[4]\n",
      " p[10] = p[4]\n",
      " p[12] = p[4]\n",
      " p[14] = p[4]\n",
      " p[16] = p[4]\n",
      "+++++++++++++++++++++++++++++++++++++++++++++++++++++++++++++++++\n",
      "gas_component           name        flux       err      V     sig\n",
      "+++++++++++++++++++++++++++++++++++++++++++++++++++++++++++++++++\n",
      "Comp:  1                   H10     0.1541     0.038    1151    51\n",
      "Comp:  1                    H9     0.1814     0.038    1151    51\n",
      "Comp:  1                    H8     0.3529     0.038    1151    51\n",
      "Comp:  1                  Heps     0.1888     0.041    1151    51\n",
      "Comp:  1                Hdelta     0.4310     0.037    1151    51\n",
      "Comp:  1                Hgamma     0.7006     0.037    1151    51\n",
      "Comp:  1                 Hbeta      1.275     0.035    1151    51\n",
      "Comp:  1                Halpha      3.727     0.032    1151    51\n",
      "Comp:  2             [SII]6716     0.7974     0.032    1155    48\n",
      "Comp:  2             [SII]6731     0.5576     0.032    1155    48\n",
      "Comp:  3           [NeIII]3968      0.000     0.038    1155     1\n",
      "Comp:  3           [NeIII]3869      0.000     0.036    1155     1\n",
      "Comp:  4              HeII4687    0.03956     0.036    1155    51\n",
      "Comp:  5               HeI5876     0.1079     0.033    1155    51\n",
      "Comp:  6          [OIII]5007_d      1.221     0.040    1155     1\n",
      "Comp:  7            [OI]6300_d    0.09170     0.036    1155     1\n",
      "Comp:  8           [NII]6583_d      1.455     0.041    1155    51\n",
      "-----------------------------------------------------------------\n",
      "Elapsed time in pPXF: 3.42\n"
     ]
    }
   ],
   "source": [
    "degree= -1\n",
    "mdegree = 10\n",
    "t = clock()\n",
    "pp = ppxf(templates, galaxy, noise, velscale, start, plot=False,\n",
    "            moments=moments, degree=degree, mdegree=mdegree, \n",
    "            lam=wave, component=component, tied=tied, reddening=0.1,\n",
    "            gas_component=component > 0, gas_names=gas_names,\n",
    "            constr_kinem=constr_kinem, lam_temp=sps.lam_temp)\n",
    "print(f\"Elapsed time in pPXF: {(clock() - t):.2f}\")"
   ]
  },
  {
   "cell_type": "markdown",
   "id": "57af08e9",
   "metadata": {},
   "source": [
    "Plot fit results for stars and gas."
   ]
  },
  {
   "cell_type": "code",
   "execution_count": 18,
   "id": "7c37bcae",
   "metadata": {},
   "outputs": [
    {
     "data": {
      "image/png": "[encoded data removed]",
      "text/plain": [
       "<Figure size 640x480 with 1 Axes>"
      ]
     },
     "metadata": {},
     "output_type": "display_data"
    }
   ],
   "source": [
    "pp.plot()\n",
    "plt.pause(5)"
   ]
  }
 ],
 "metadata": {
  "jupytext": {
   "cell_metadata_filter": "-all",
   "formats": "py:percent,ipynb"
  },
  "kernelspec": {
   "display_name": "base",
   "language": "python",
   "name": "python3"
  },
  "language_info": {
   "codemirror_mode": {
    "name": "ipython",
    "version": 3
   },
   "file_extension": ".py",
   "mimetype": "text/x-python",
   "name": "python",
   "nbconvert_exporter": "python",
   "pygments_lexer": "ipython3",
   "version": "3.12.3"
  }
 },
 "nbformat": 4,
 "nbformat_minor": 5
}
