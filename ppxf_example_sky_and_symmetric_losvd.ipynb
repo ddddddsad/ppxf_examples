{
 "cells": [
  {
   "cell_type": "markdown",
   "id": "1cf916bf",
   "metadata": {},
   "source": [
    "\n",
    "# pPXF: Reflection-symmetric LOSVD and sky fit\n",
    "\n",
    "![pPXF](https://www-astro.physics.ox.ac.uk/~cappellari/software/ppxf_logo.svg)\n",
    "\n",
    "## Description\n",
    "\n",
    "Usage example for the procedure pPXF originally described in \n",
    "[Cappellari & Emsellem (2004)](http://adsabs.harvard.edu/abs/2004PASP..116..138C),\n",
    "substantially upgraded in \n",
    "[Cappellari (2017)](http://adsabs.harvard.edu/abs/2017MNRAS.466..798C) \n",
    "and with the inclusion of photometry and linear constraints in \n",
    "[Cappellari (2023)](https://ui.adsabs.harvard.edu/abs/2023MNRAS.526.3273C).\n",
    "\n",
    "This procedure illustrates (and tests) both\n",
    "  1. The simultaneous fit of two reflection-symmetric LOSVDs;\n",
    "  2. The fit of the sky spectrum together with the templates.\n",
    "\n",
    "### MODIFICATION HISTORY\n",
    "\n",
    "- V1.0.0: Written by Michele Cappellari, based on a previous IDL procedure.\n",
    "      Oxford, 20 April 2017\n",
    "- V1.0.1: Updated MILES file names. MC, Oxford, 29 November 2017\n",
    "- V1.0.2: Changed imports for pPXF as a package.\n",
    "      Make file paths relative to the pPXF package to be able to run the\n",
    "      example unchanged from any directory. MC, Oxford, 17 April 2018\n",
    "- V1.0.3: Dropped legacy Python 2.7 support. MC, Oxford, 10 May 2018\n",
    "- V1.0.4: Fixed clock DeprecationWarning in Python 3.7.\n",
    "      MC, Oxford, 27 September 2018\n",
    "- V1.1.0: Use E-Miles spectral library. MC, Oxford, 16 March 2022\n",
    "- V1.2.0: Make single call of new log_rebin for all templates.\n",
    "      MC, Oxford, 31 August 2023\n",
    "- V1.3.0: Use the new `sps_util` instead of `miles_util`. \n",
    "      MC, Oxford, 12 November 2023\n",
    "- V1.3.1: Use updated Numpy `default_rng` random generator. \n",
    "      MC, Oxford, 28 May 2024\n",
    "___"
   ]
  },
  {
   "cell_type": "code",
   "execution_count": 1,
   "id": "2ba4f2ad",
   "metadata": {},
   "outputs": [],
   "source": [
    "from pathlib import Path\n",
    "from time import perf_counter as clock\n",
    "from urllib import request\n",
    "\n",
    "import numpy as np\n",
    "from scipy import signal\n",
    "from numpy.polynomial import legendre\n",
    "import matplotlib.pyplot as plt\n",
    "\n",
    "from ppxf.ppxf import ppxf\n",
    "import ppxf.ppxf_util as util\n",
    "import ppxf.sps_util as lib"
   ]
  },
  {
   "cell_type": "markdown",
   "id": "00482834",
   "metadata": {
    "lines_to_next_cell": 0
   },
   "source": [
    "## Reading mock spectrum"
   ]
  },
  {
   "cell_type": "code",
   "execution_count": 2,
   "id": "17ea9eab",
   "metadata": {},
   "outputs": [],
   "source": [
    "lam_range_temp = [3500, 7500]\n",
    "sps_name = 'emiles'\n",
    "velscale = 70   # km/s"
   ]
  },
  {
   "cell_type": "markdown",
   "id": "62e085c7",
   "metadata": {},
   "source": [
    "Read SPS models file from my GitHub if not already in the `pPXF` package dir.\n",
    "The SPS model files are also available on my [GitHub Page](https://github.com/micappe/ppxf_data)."
   ]
  },
  {
   "cell_type": "code",
   "execution_count": 3,
   "id": "c6696464",
   "metadata": {},
   "outputs": [],
   "source": [
    "ppxf_dir = Path(util.__file__).parent\n",
    "basename = f\"spectra_{sps_name}_9.0.npz\"\n",
    "filename = ppxf_dir / 'sps_models' / basename\n",
    "if not filename.is_file():\n",
    "    url = \"https://raw.githubusercontent.com/micappe/ppxf_data/main/\" + basename\n",
    "    request.urlretrieve(url, filename)"
   ]
  },
  {
   "cell_type": "code",
   "execution_count": 4,
   "id": "2d785f1e",
   "metadata": {},
   "outputs": [],
   "source": [
    "sps = lib.sps_lib(filename, velscale, wave_range=lam_range_temp)\n",
    "star = sps.templates[:, -2, -2]  # age = 12.59 Gyr [M/H] = 0"
   ]
  },
  {
   "cell_type": "markdown",
   "id": "ebe3fbd2",
   "metadata": {},
   "source": [
    "## Adopted input parameters"
   ]
  },
  {
   "cell_type": "code",
   "execution_count": 5,
   "id": "f98609f9",
   "metadata": {},
   "outputs": [],
   "source": [
    "vel = 200./velscale    # Velocity of 1st spectrum in pixels (2nd has -vel)\n",
    "sigma = 300./velscale   # Dispersion of both spectra in pixels\n",
    "h3 = 0.1                # h3 of 1st spectrum (2nd has -h3)\n",
    "h4 = 0.1\n",
    "sn = 40.\n",
    "moments = 4\n",
    "deg = 4\n",
    "vshift = 10                 # Adopted systemic velocity in pixels\n",
    "vsyst = vshift*velscale     # Adopted systemic velocity in km/s"
   ]
  },
  {
   "cell_type": "markdown",
   "id": "0ae556db",
   "metadata": {},
   "source": [
    "## Generate input Sky\n",
    "\n",
    "For illustration, the sky is modelled as two Gaussian emission lines"
   ]
  },
  {
   "cell_type": "code",
   "execution_count": 6,
   "id": "d5b82ebe",
   "metadata": {},
   "outputs": [],
   "source": [
    "n = star.size\n",
    "x = np.arange(n)\n",
    "sky1 = np.exp(-0.5*(x - 1000)**2/100)\n",
    "sky2 = np.exp(-0.5*(x - 2000)**2/100)"
   ]
  },
  {
   "cell_type": "markdown",
   "id": "a308172b",
   "metadata": {},
   "source": [
    "## Generate input LOSVD"
   ]
  },
  {
   "cell_type": "code",
   "execution_count": 7,
   "id": "773e8b79",
   "metadata": {},
   "outputs": [],
   "source": [
    "dx = int(abs(vel) + 5*sigma)\n",
    "v = np.linspace(-dx, dx, 2*dx + 1)\n",
    "w = (v - vel)/sigma\n",
    "w2 = w**2\n",
    "gauss = np.exp(-0.5*w2)\n",
    "gauss /= np.sum(gauss)\n",
    "h3poly = w*(2*w2 - 3)/np.sqrt(3)\n",
    "h4poly = (w2*(4*w2 - 12) + 3)/np.sqrt(24)\n",
    "losvd = gauss*(1 + h3*h3poly + h4*h4poly)"
   ]
  },
  {
   "cell_type": "markdown",
   "id": "a40ae0ac",
   "metadata": {},
   "source": [
    "## Generate first synthetic spectrum\n",
    "\n",
    "The template is convolved with the LOSVD"
   ]
  },
  {
   "cell_type": "code",
   "execution_count": 8,
   "id": "df95b65b",
   "metadata": {},
   "outputs": [],
   "source": [
    "prng = np.random.default_rng(5)  # For reproducible results\n",
    "x = np.linspace(-1, 1, n)\n",
    "galaxy1 = signal.fftconvolve(star, losvd, mode=\"same\")\n",
    "galaxy1 = np.roll(galaxy1, vshift)   # Mimic nonzero systemic velocity\n",
    "galaxy1 *= legendre.legval(x, np.append(1, prng.uniform(-0.1, 0.1, deg-1)))  # Multiplicative polynomials\n",
    "galaxy1 += legendre.legval(x, prng.uniform(-0.1, 0.1, deg))  # Additive polynomials\n",
    "galaxy1 += sky1 + 2*sky2    # Add two sky lines\n",
    "galaxy1 = prng.normal(galaxy1, 1/sn)   # Add noise"
   ]
  },
  {
   "cell_type": "markdown",
   "id": "46037ca9",
   "metadata": {},
   "source": [
    "## Generate symmetric synthetic spectrum\n",
    "\n",
    "The same template is convolved with a reversed LOSVD\n",
    "and different polynomials and sky lines are included"
   ]
  },
  {
   "cell_type": "code",
   "execution_count": 9,
   "id": "b20f1a6f",
   "metadata": {},
   "outputs": [],
   "source": [
    "galaxy2 = signal.fftconvolve(star, np.flip(losvd, 0), mode=\"same\")\n",
    "galaxy2 = np.roll(galaxy2, vshift)   # Mimic nonzero systemic velocity\n",
    "galaxy2 *= legendre.legval(x, np.append(1, prng.uniform(-0.1, 0.1, deg-1)))  # Multiplicative polynomials\n",
    "galaxy2 += legendre.legval(x, prng.uniform(-0.1, 0.1, deg))  # Additive polynomials\n",
    "galaxy2 += 2*sky1 + sky2    # Add two sky lines\n",
    "galaxy2 = prng.normal(galaxy2, 1/sn)   # Add noise"
   ]
  },
  {
   "cell_type": "markdown",
   "id": "8f34db91",
   "metadata": {},
   "source": [
    "## pPXF fit\n",
    "\n",
    "Input both galaxy spectra simultaneously to pPXF"
   ]
  },
  {
   "cell_type": "code",
   "execution_count": 10,
   "id": "05bd2878",
   "metadata": {},
   "outputs": [],
   "source": [
    "galaxy = np.column_stack([galaxy1, galaxy2])\n",
    "noise = np.full_like(galaxy, 1/sn)"
   ]
  },
  {
   "cell_type": "markdown",
   "id": "85bfd741",
   "metadata": {},
   "source": [
    "Use two sky templates for each galaxy spectrum"
   ]
  },
  {
   "cell_type": "code",
   "execution_count": 11,
   "id": "4b824b0e",
   "metadata": {},
   "outputs": [],
   "source": [
    "sky = np.column_stack([sky1, sky2])"
   ]
  },
  {
   "cell_type": "markdown",
   "id": "bfadd02a",
   "metadata": {},
   "source": [
    "Randomized starting guess"
   ]
  },
  {
   "cell_type": "code",
   "execution_count": 12,
   "id": "ccee66ea",
   "metadata": {},
   "outputs": [],
   "source": [
    "vel0 = vel + prng.uniform(-1, 1)\n",
    "sigma0 = sigma*prng.uniform(0.8, 1.2)\n",
    "start = np.array([vel0, sigma0])*velscale  # Convert to km/s\n",
    "goodpixels = np.arange(50, n - 50)"
   ]
  },
  {
   "cell_type": "code",
   "execution_count": 13,
   "id": "f2dfde24",
   "metadata": {},
   "outputs": [
    {
     "name": "stdout",
     "output_type": "stream",
     "text": [
      "\n",
      "The input values are: Vel=200, sigma=300, h3=0.1, h4=0.1\n",
      "\n"
     ]
    }
   ],
   "source": [
    "print(\"\\nThe input values are: Vel=%0.0f, sigma=%0.0f, h3=%0.1f, h4=%0.1f\\n\" %\n",
    "        (vel*velscale, sigma*velscale, h3, h4))"
   ]
  },
  {
   "cell_type": "code",
   "execution_count": 14,
   "id": "968c0579",
   "metadata": {},
   "outputs": [
    {
     "name": "stdout",
     "output_type": "stream",
     "text": [
      " Best Fit:       Vel     sigma        h3        h4\n",
      " comp.  0:       192       309     0.071     0.076\n",
      "chi2/DOF: 1.015; DOF: 6316; degree = 4; mdegree = 4\n",
      "method = capfit; Jac calls: 3; Func calls: 41; Status: 2\n",
      "linear_method = lsq_box; Nonzero Templates (>0.1%): 9/154\n",
      "Elapsed time in pPXF: 2.26 s\n"
     ]
    },
    {
     "data": {
      "image/png": "[encoded data removed]",
      "text/plain": [
       "<Figure size 640x480 with 1 Axes>"
      ]
     },
     "metadata": {},
     "output_type": "display_data"
    }
   ],
   "source": [
    "t = clock()\n",
    "pp = ppxf(sps.templates, galaxy, noise, velscale, start,\n",
    "            goodpixels=goodpixels, plot=1, moments=moments,\n",
    "            vsyst=vsyst, mdegree=deg, degree=deg, sky=sky)\n",
    "print('Elapsed time in pPXF: %.2f s' % (clock() - t))\n",
    "plt.pause(5);"
   ]
  }
 ],
 "metadata": {
  "jupytext": {
   "cell_metadata_filter": "-all",
   "formats": "py:percent,ipynb",
   "main_language": "python"
  },
  "kernelspec": {
   "display_name": "base",
   "language": "python",
   "name": "python3"
  },
  "language_info": {
   "codemirror_mode": {
    "name": "ipython",
    "version": 3
   },
   "file_extension": ".py",
   "mimetype": "text/x-python",
   "name": "python",
   "nbconvert_exporter": "python",
   "pygments_lexer": "ipython3",
   "version": "3.12.3"
  }
 },
 "nbformat": 4,
 "nbformat_minor": 5
}
