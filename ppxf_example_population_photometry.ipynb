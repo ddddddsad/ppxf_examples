{
 "cells": [
  {
   "cell_type": "markdown",
   "id": "413894e9",
   "metadata": {},
   "source": [
    "\n",
    "# pPXF: Fitting both photometry and spectra\n",
    "\n",
    "![pPXF](https://www-astro.physics.ox.ac.uk/~cappellari/software/ppxf_logo.svg)\n",
    "\n",
    "## Description\n",
    "\n",
    "Usage example for the procedure pPXF originally described in \n",
    "[Cappellari & Emsellem (2004)](http://adsabs.harvard.edu/abs/2004PASP..116..138C),\n",
    "substantially upgraded in \n",
    "[Cappellari (2017)](http://adsabs.harvard.edu/abs/2017MNRAS.466..798C) \n",
    "and with the inclusion of photometry and linear constraints in \n",
    "[Cappellari (2023)](https://ui.adsabs.harvard.edu/abs/2023MNRAS.526.3273C).\n",
    "\n",
    "### MODIFICATION HISTORY\n",
    "\n",
    "* V1.0.0: Michele Cappellari, Oxford, 29 March 2022: Created\n",
    "* V1.1.0: MC, Oxford, 10 June 2022: Updated for `pPXF` 8.1 using the new `ppxf_util.synthetic_photometry`\n",
    "* V1.2.0: MC, Oxford, 7 September 2022: Updated for pPXF 8.2\n",
    "* V1.3.0: MC, Oxford, 19 November 2023: Updated for pPXF 9.0 using the new `sps_util`.\n",
    "\n",
    "___"
   ]
  },
  {
   "cell_type": "code",
   "execution_count": 1,
   "id": "1f91bcdd",
   "metadata": {},
   "outputs": [],
   "source": [
    "from pathlib import Path\n",
    "from urllib import request\n",
    "\n",
    "import numpy as np\n",
    "import matplotlib.pyplot as plt\n",
    "from astropy.io import fits\n",
    "\n",
    "from ppxf.ppxf import ppxf\n",
    "import ppxf.ppxf_util as util\n",
    "import ppxf.sps_util as lib"
   ]
  },
  {
   "cell_type": "markdown",
   "id": "164e906b",
   "metadata": {},
   "source": [
    "## Read the observed galaxy spectrum\n",
    "\n",
    "Read the galaxy spectrum taken from [SDSS DR8](http://www.sdss3.org/dr8/).\n",
    "The spectrum is *already* log rebinned by the SDSS DR8 pipeline and log_rebin\n",
    "should not be used in this case."
   ]
  },
  {
   "cell_type": "code",
   "execution_count": 2,
   "id": "de3d6a10",
   "metadata": {},
   "outputs": [],
   "source": [
    "file_dir = Path(lib.__file__).parent / 'spectra' / 'NGC3073_SDSS_DR8.fits'\n",
    "hdu = fits.open(file_dir)[1]\n",
    "t = hdu.data\n",
    "redshift = float(hdu.header[\"Z\"]) # SDSS redshift estimate"
   ]
  },
  {
   "cell_type": "markdown",
   "id": "a50dd021",
   "metadata": {},
   "source": [
    "Only use the wavelength range in common between galaxy and stellar library"
   ]
  },
  {
   "cell_type": "code",
   "execution_count": 3,
   "id": "a95944ba",
   "metadata": {},
   "outputs": [],
   "source": [
    "flux = t['flux']\n",
    "galaxy = flux/np.median(flux)   # Normalize spectrum to avoid numerical issues\n",
    "wave = t['wavelength']"
   ]
  },
  {
   "cell_type": "markdown",
   "id": "9546d364",
   "metadata": {},
   "source": [
    "Restricts the fit to the region sampled by the high quality MILES spectra\n"
   ]
  },
  {
   "cell_type": "code",
   "execution_count": 4,
   "id": "19ef2e3b",
   "metadata": {},
   "outputs": [],
   "source": [
    "w = wave < 7500\n",
    "galaxy = galaxy[w]\n",
    "wave = wave[w]"
   ]
  },
  {
   "cell_type": "markdown",
   "id": "86b57d25",
   "metadata": {},
   "source": [
    "The SDSS wavelengths are in vacuum, while the MILES ones are in air. For a\n",
    "rigorous treatment, the SDSS vacuum wavelengths should be converted into air\n",
    "wavelengths and the spectra should be resampled. To avoid resampling, given\n",
    "that the wavelength dependence of the correction is very weak, I approximate\n",
    "it with a constant factor."
   ]
  },
  {
   "cell_type": "code",
   "execution_count": 5,
   "id": "5bd8dbe8",
   "metadata": {},
   "outputs": [],
   "source": [
    "wave *= np.median(util.vac_to_air(wave)/wave)\n",
    "rms = 0.019  # rms scatter of the spectrum residuals\n",
    "goodpixels = np.arange(galaxy.size)  # fit full spectrum"
   ]
  },
  {
   "cell_type": "markdown",
   "id": "5a65f10d",
   "metadata": {},
   "source": [
    "In a real situation one does not know the galaxy spectrum outside the fitted\n",
    "range. However, in this example I pass the full galaxy spectrum to pPXF even\n",
    "tough fit only a limited range of `goodpixels``. In this way I can see\n",
    "directly how well the extrapolated best fit reproduces the true galaxy\n",
    "spectrum outside the fitted range."
   ]
  },
  {
   "cell_type": "code",
   "execution_count": 6,
   "id": "bd03746d",
   "metadata": {},
   "outputs": [],
   "source": [
    "noise = np.full_like(galaxy, rms)"
   ]
  },
  {
   "cell_type": "markdown",
   "id": "cc75c34b",
   "metadata": {},
   "source": [
    "Estimate the wavelength fitted range in the rest frame.\n",
    "This is used to select the gas templates falling in the fitted range"
   ]
  },
  {
   "cell_type": "code",
   "execution_count": 7,
   "id": "737d4897",
   "metadata": {},
   "outputs": [],
   "source": [
    "wave_good = wave[goodpixels]\n",
    "lam_range_gal = np.array([np.min(wave_good), np.max(wave_good)])/(1 + redshift)"
   ]
  },
  {
   "cell_type": "markdown",
   "id": "1597914f",
   "metadata": {},
   "source": [
    "## Observed galaxy photometric fluxes\n",
    "\n",
    "Mean galaxy fluxes in the photometric bands `[FUV, NUV, u, g, r, i, z, J, H, K]`.\n",
    "They are normalized like the galaxy spectrum"
   ]
  },
  {
   "cell_type": "code",
   "execution_count": 8,
   "id": "ccf3ec4e",
   "metadata": {},
   "outputs": [],
   "source": [
    "phot_galaxy = np.array([1.23e-16, 6.23e-17, 4.19e-17, 5.67e-17, 3.90e-17, \n",
    "                        2.93e-17, 2.30e-17, 1.30e-17, 7.83e-18, 3.49e-18])  # fluxes in erg/cm^2/s/A\n",
    "phot_noise = np.full_like(phot_galaxy, np.max(phot_galaxy)*0.03)  # 1sigma uncertainties of 3%"
   ]
  },
  {
   "cell_type": "markdown",
   "id": "1ccc3e06",
   "metadata": {},
   "source": [
    "## Setup spectral templates\n",
    "\n",
    "The velocity step was already chosen by the SDSS pipeline and I convert it below to km/s"
   ]
  },
  {
   "cell_type": "code",
   "execution_count": 9,
   "id": "853376f4",
   "metadata": {},
   "outputs": [],
   "source": [
    "c = 299792.458  # speed of light in km/s\n",
    "d_ln_lam = np.log(wave[-1]/wave[0])/(wave.size - 1)  # Average ln_lam step\n",
    "velscale = c*d_ln_lam                   # eq. (8) of Cappellari (2017)\n",
    "FWHM_gal = 2.76  # SDSS has an approximate instrumental resolution FWHM of 2.76A."
   ]
  },
  {
   "cell_type": "markdown",
   "id": "36aa03b3",
   "metadata": {},
   "source": [
    "## Setup stellar templates \n",
    "\n",
    "pPXF can be used with any set of SPS population templates. However, I am\n",
    "currently providing (with permission) ready-to-use template files for\n",
    "four SPS. One can just uncomment one of the four models below. The\n",
    "included files are only a subset of the SPS that can be produced with the\n",
    "models, and one should use the relevant software/website to produce\n",
    "different sets of SPS templates if needed.\n",
    "\n",
    "1. If you use the [fsps v3.2](https://github.com/cconroy20/fsps) SPS model\n",
    "   templates, please also cite in your paper \n",
    "   [Conroy et al. (2009)](https://ui.adsabs.harvard.edu/abs/2009ApJ...699..486C) and\n",
    "   [Conroy et al. (2009)](https://ui.adsabs.harvard.edu/abs/2010ApJ...712..833C).\n",
    "\n",
    "2. If you use the [GALAXEV v2020](http://www.bruzual.org/bc03/) SPS model \n",
    "   templates, please also cite in your paper \n",
    "   [Bruzual & Charlot (2003)](https://ui.adsabs.harvard.edu/abs/2003MNRAS.344.1000B).\n",
    "\n",
    "3. If you use the [E-MILES](http://miles.iac.es/) SPS model templates,\n",
    "   please also cite  in your paper \n",
    "   [Vazdekis et al. (2016)](https://ui.adsabs.harvard.edu/abs/2016MNRAS.463.3409V).\n",
    "   <font color=\"red\">WARNING: The E-MILES models only include SPS with age > 63 Myr and\n",
    "   are not recommended for highly star forming galaxies.</font>\n",
    "\n",
    "4. If you use the [X-Shooter Spectral Library (XSL)](http://xsl.u-strasbg.fr/) \n",
    "   SPS model templates, please also cite in your paper \n",
    "   [Verro et al. (2022)](https://ui.adsabs.harvard.edu/abs/2022A%26A...661A..50V). \n",
    "   <font color=\"red\">WARNING: The XSL models only include SPS with age > 50 Myr and\n",
    "   are not recommended for highly star forming galaxies.</font>"
   ]
  },
  {
   "cell_type": "code",
   "execution_count": 10,
   "id": "d47469ee",
   "metadata": {},
   "outputs": [],
   "source": [
    "sps_name = 'fsps'\n",
    "# sps_name = 'galaxev'\n",
    "# sps_name = 'emiles'\n",
    "# sps_name = 'xsl'"
   ]
  },
  {
   "cell_type": "markdown",
   "id": "cba14c53",
   "metadata": {},
   "source": [
    "Read SPS models file from my GitHub if not already in the pPXF package dir. I\n",
    "am not distributing the templates with pPXF anymore. The SPS model files are\n",
    "also available [this GitHub page](https://github.com/micappe/ppxf_data)."
   ]
  },
  {
   "cell_type": "code",
   "execution_count": 11,
   "id": "8de39031",
   "metadata": {},
   "outputs": [],
   "source": [
    "ppxf_dir = Path(lib.__file__).parent\n",
    "basename = f\"spectra_{sps_name}_9.0.npz\"\n",
    "filename = ppxf_dir / 'sps_models' / basename\n",
    "if not filename.is_file():\n",
    "    url = \"https://raw.githubusercontent.com/micappe/ppxf_data/main/\" + basename\n",
    "    request.urlretrieve(url, filename)"
   ]
  },
  {
   "cell_type": "markdown",
   "id": "d4d5eab2",
   "metadata": {},
   "source": [
    "I normalize the templates to `mean=1` within the FWHM of the V-band. In this\n",
    "way the weights returned by pPXF and mean values are light-weighted\n",
    "quantities"
   ]
  },
  {
   "cell_type": "code",
   "execution_count": 12,
   "id": "3fedf9b0",
   "metadata": {},
   "outputs": [
    {
     "name": "stdout",
     "output_type": "stream",
     "text": [
      "WARNING: Template's resolution dlam is larger than galaxy's at some wavelengths.This is not necessarily a problem as these may be outside the fitted range.\n"
     ]
    }
   ],
   "source": [
    "sps = lib.sps_lib(filename, velscale, FWHM_gal, norm_range=[5070, 5950])\n",
    "stars_templates, ln_lam_temp = sps.templates, sps.ln_lam_temp"
   ]
  },
  {
   "cell_type": "markdown",
   "id": "4171ede9",
   "metadata": {},
   "source": [
    "The stellar templates are reshaped below into a 2-dim array with each\n",
    "spectrum as a column, however we save the original array dimensions, which\n",
    "are needed to specify the regularization dimensions"
   ]
  },
  {
   "cell_type": "code",
   "execution_count": 13,
   "id": "c26e66f5",
   "metadata": {},
   "outputs": [],
   "source": [
    "reg_dim = sps.templates.shape[1:]\n",
    "stars_templates = sps.templates.reshape(sps.templates.shape[0], -1)"
   ]
  },
  {
   "cell_type": "markdown",
   "id": "7b8ab970",
   "metadata": {},
   "source": [
    "Construct a set of Gaussian emission line templates.\n",
    "\n",
    "The `emission_lines` function defines the most common lines, but additional\n",
    "lines can be included by editing the function in the file `ppxf_util.py`."
   ]
  },
  {
   "cell_type": "code",
   "execution_count": 14,
   "id": "0138f6be",
   "metadata": {},
   "outputs": [
    {
     "name": "stdout",
     "output_type": "stream",
     "text": [
      "Emission lines included in gas templates:\n",
      "['H10' 'H9' 'H8' 'Heps' 'Hdelta' 'Hgamma' 'Hbeta' 'Halpha' '[SII]6716'\n",
      " '[SII]6731' '[NeIII]3968' '[NeIII]3869' 'HeII4687' 'HeI5876'\n",
      " '[OIII]5007_d' '[OI]6300_d' '[NII]6583_d']\n"
     ]
    }
   ],
   "source": [
    "gas_templates, gas_names, line_wave = util.emission_lines(\n",
    "    sps.ln_lam_temp, lam_range_gal, FWHM_gal)"
   ]
  },
  {
   "cell_type": "markdown",
   "id": "8337e1ad",
   "metadata": {},
   "source": [
    "Combines the stellar and gaseous templates into a single array. During the\n",
    "pPXF fit they will be assigned a different kinematic COMPONENT value"
   ]
  },
  {
   "cell_type": "code",
   "execution_count": 15,
   "id": "a4b0a988",
   "metadata": {},
   "outputs": [],
   "source": [
    "templates = np.column_stack([stars_templates, gas_templates])"
   ]
  },
  {
   "cell_type": "markdown",
   "id": "20bb7e3a",
   "metadata": {},
   "source": [
    "## Setup photometric templates"
   ]
  },
  {
   "cell_type": "code",
   "execution_count": 16,
   "id": "0d0105e0",
   "metadata": {},
   "outputs": [],
   "source": [
    "bands = ['galex1500', 'galex2500', 'SDSS/u', 'SDSS/g', 'SDSS/r', 'SDSS/i', 'SDSS/z', '2MASS/J', '2MASS/H', '2MASS/K']\n",
    "phot = util.synthetic_photometry(templates, sps.lam_temp, bands, redshift=redshift, quiet=1)\n",
    "phot = {\"templates\": phot.flux, \"galaxy\": phot_galaxy, \"noise\": phot_noise, \"lam\": phot.lam_eff}"
   ]
  },
  {
   "cell_type": "markdown",
   "id": "7d5a48ad",
   "metadata": {},
   "source": [
    "Ideally, one would like to have photometry and spectra independently\n",
    "calibrated and measured within the same aperture. However, the relative\n",
    "calibration of photometry and spectra is never sufficiently accurate. For\n",
    "this reason, I am scaling the photometry to match the spectrum, in the\n",
    "wavelength range in common.\n",
    "\n",
    "Scale photometry to match the spectrum as in Sec.6.4 of [Cappellari\n",
    "(2023)](https://ui.adsabs.harvard.edu/abs/10.1093/mnras/stad2597)\n",
    "\n",
    "First compute synthetic photometry on SDSS galaxy spectrum, which is already\n",
    "in rest-frame"
   ]
  },
  {
   "cell_type": "code",
   "execution_count": 17,
   "id": "423e9a15",
   "metadata": {},
   "outputs": [
    {
     "name": "stdout",
     "output_type": "stream",
     "text": [
      "  1 --- Outside template: galex1500\n",
      "  2 --- Outside template: galex2500\n",
      "  3 --- Outside template: SDSS/u\n",
      "  4: SDSS/g\n",
      "  5: SDSS/r\n",
      "  6 --- Outside template: SDSS/i\n",
      "  7 --- Outside template: SDSS/z\n",
      "  8 --- Outside template: 2MASS/J\n",
      "  9 --- Outside template: 2MASS/H\n",
      " 10 --- Outside template: 2MASS/K\n"
     ]
    }
   ],
   "source": [
    "p2 = util.synthetic_photometry(galaxy, wave, bands, redshift=redshift)"
   ]
  },
  {
   "cell_type": "markdown",
   "id": "37051397",
   "metadata": {},
   "source": [
    "Extract the bands that fall inside the galaxy spectrum.\n",
    "Scale photometry to match the synthetic one from the SDSS spectrum\n"
   ]
  },
  {
   "cell_type": "code",
   "execution_count": 18,
   "id": "8eda7e3b",
   "metadata": {},
   "outputs": [],
   "source": [
    "d = p2.flux[p2.ok]\n",
    "m = phot_galaxy[p2.ok]    # p2.ok=True if band is in galaxy wavelength range\n",
    "scale = (d @ m)/(m @ m)   # eq.(34) of Cappellari (2023, MNRAS)\n",
    "phot_galaxy *= scale\n",
    "phot_noise *= scale"
   ]
  },
  {
   "cell_type": "markdown",
   "id": "55cb100d",
   "metadata": {},
   "source": [
    "Compute the photometric templates in the observed bands, excluding the bands\n",
    "falling outside the range covered by the templates."
   ]
  },
  {
   "cell_type": "code",
   "execution_count": 19,
   "id": "0f01d6f5",
   "metadata": {
    "lines_to_next_cell": 2
   },
   "outputs": [
    {
     "name": "stdout",
     "output_type": "stream",
     "text": [
      "  1: galex1500\n",
      "  2: galex2500\n",
      "  3: SDSS/u\n",
      "  4: SDSS/g\n",
      "  5: SDSS/r\n",
      "  6: SDSS/i\n",
      "  7: SDSS/z\n",
      "  8: 2MASS/J\n",
      "  9: 2MASS/H\n",
      " 10: 2MASS/K\n"
     ]
    }
   ],
   "source": [
    "p1 = util.synthetic_photometry(templates, sps.lam_temp, bands, redshift=redshift)\n",
    "phot = {\"templates\": p1.flux[p1.ok], \"lam\": p1.lam_eff[p1.ok],\n",
    "        \"galaxy\": phot_galaxy[p1.ok], \"noise\": phot_noise[p1.ok]}"
   ]
  },
  {
   "cell_type": "markdown",
   "id": "18731f73",
   "metadata": {},
   "source": [
    "## pPXF input parameters"
   ]
  },
  {
   "cell_type": "code",
   "execution_count": 20,
   "id": "28c959cc",
   "metadata": {},
   "outputs": [],
   "source": [
    "c = 299792.458\n",
    "vel = c*np.log(1 + redshift)   # eq.(8) of Cappellari (2017)\n",
    "start = [vel, 180.]     # (km/s), starting guess for [V, sigma]"
   ]
  },
  {
   "cell_type": "markdown",
   "id": "73cc0d00",
   "metadata": {},
   "source": [
    "I fit two kinematics components, one for the stars and one for the gas.\n",
    "Assign `component=0` to the stellar templates, `component=1` to the gas."
   ]
  },
  {
   "cell_type": "code",
   "execution_count": 21,
   "id": "97abcf9a",
   "metadata": {},
   "outputs": [],
   "source": [
    "n_stars = stars_templates.shape[1]\n",
    "n_gas = len(gas_names)\n",
    "component = [0]*n_stars + [1]*n_gas\n",
    "gas_component = np.array(component) > 0  # gas_component=True for gas templates"
   ]
  },
  {
   "cell_type": "markdown",
   "id": "c4f6fc4d",
   "metadata": {},
   "source": [
    "Fit (V, sig) moments=2 for both the stars and the gas"
   ]
  },
  {
   "cell_type": "code",
   "execution_count": 22,
   "id": "88374966",
   "metadata": {},
   "outputs": [],
   "source": [
    "moments = [2, 2]"
   ]
  },
  {
   "cell_type": "markdown",
   "id": "6031c8ad",
   "metadata": {},
   "source": [
    "Adopt the same starting value for both the stars and the gas components"
   ]
  },
  {
   "cell_type": "code",
   "execution_count": 23,
   "id": "3dfcc76a",
   "metadata": {},
   "outputs": [],
   "source": [
    "start = [start, start]"
   ]
  },
  {
   "cell_type": "markdown",
   "id": "7c366f7d",
   "metadata": {},
   "source": [
    "## Start pPXF fit"
   ]
  },
  {
   "cell_type": "code",
   "execution_count": 24,
   "id": "93c1f990",
   "metadata": {},
   "outputs": [
    {
     "name": "stdout",
     "output_type": "stream",
     "text": [
      " Best Fit:       Vel     sigma\n",
      " comp.  0:      1063        15\n",
      " comp.  1:      1152        48\n",
      "Stars Attenuation A_V: 0.001\n",
      "chi2/DOF: 0.7741; DOF: 2945; degree = -1; mdegree = 8\n",
      "Photometry chi2/n_bands: 0.2122; n_bands: 10\n",
      "method = capfit; Jac calls: 6; Func calls: 86; Status: 2\n",
      "linear_method = lsq_box; Nonzero Templates (>0.1%): 40/404\n",
      "+++++++++++++++++++++++++++++++++++++++++++++++++++++++++++++++++\n",
      "gas_component           name        flux       err      V     sig\n",
      "+++++++++++++++++++++++++++++++++++++++++++++++++++++++++++++++++\n",
      "Comp:  1                   H10      0.000     0.044    1152    48\n",
      "Comp:  1                    H9    0.05580     0.044    1152    48\n",
      "Comp:  1                    H8     0.2581     0.044    1152    48\n",
      "Comp:  1                  Heps     0.1824     0.048    1152    48\n",
      "Comp:  1                Hdelta     0.3253     0.043    1152    48\n",
      "Comp:  1                Hgamma     0.6404     0.042    1152    48\n",
      "Comp:  1                 Hbeta      1.277     0.041    1152    48\n",
      "Comp:  1                Halpha      3.898     0.037    1152    48\n",
      "Comp:  1             [SII]6716     0.8785     0.037    1152    48\n",
      "Comp:  1             [SII]6731     0.6235     0.037    1152    48\n",
      "Comp:  1           [NeIII]3968      0.000     0.048    1152    48\n",
      "Comp:  1           [NeIII]3869      0.000     0.044    1152    48\n",
      "Comp:  1              HeII4687    0.06814     0.041    1152    48\n",
      "Comp:  1               HeI5876     0.1199     0.038    1152    48\n",
      "Comp:  1          [OIII]5007_d      1.385     0.051    1152    48\n",
      "Comp:  1            [OI]6300_d    0.08070     0.048    1152    48\n",
      "Comp:  1           [NII]6583_d      1.544     0.047    1152    48\n",
      "-----------------------------------------------------------------\n"
     ]
    }
   ],
   "source": [
    "pp = ppxf(templates, galaxy, noise, velscale, start,\n",
    "          moments=moments, degree=-1, mdegree=8, lam=wave, lam_temp=sps.lam_temp, regul=1/rms,\n",
    "          reg_dim=reg_dim, component=component, gas_component=gas_component, reddening=0, \n",
    "          gas_names=gas_names, goodpixels=goodpixels, phot=phot)"
   ]
  },
  {
   "cell_type": "markdown",
   "id": "247894c6",
   "metadata": {},
   "source": [
    "## Plot fit results for stars, gas and stellar population"
   ]
  },
  {
   "cell_type": "code",
   "execution_count": 25,
   "id": "f503217f",
   "metadata": {},
   "outputs": [],
   "source": [
    "light_weights = pp.weights[~gas_component]      # Exclude weights of the gas templates\n",
    "light_weights = light_weights.reshape(reg_dim)  # Reshape to (n_ages, n_metal)\n",
    "light_weights /= light_weights.sum()            # Normalize to light fractions"
   ]
  },
  {
   "cell_type": "markdown",
   "id": "efcc67d4",
   "metadata": {},
   "source": [
    "Given that the templates are normalized to the V-band, the `pPXF` weights\n",
    "represent V-band light fractions and the computed ages and metallicities\n",
    "below are also light weighted in the V-band."
   ]
  },
  {
   "cell_type": "code",
   "execution_count": 26,
   "id": "3838fb3f",
   "metadata": {},
   "outputs": [
    {
     "name": "stdout",
     "output_type": "stream",
     "text": [
      "Weighted <lg_age> [yr]: 8.62\n",
      "Weighted <[M/H]>: -0.154\n",
      "(M*/L)=1.279 (SDSS/r at z=0.0038)\n"
     ]
    }
   ],
   "source": [
    "sps.mean_age_metal(light_weights);\n",
    "sps.mass_to_light(light_weights, band='SDSS/r', redshift=redshift);"
   ]
  },
  {
   "cell_type": "code",
   "execution_count": 27,
   "id": "57d45624",
   "metadata": {},
   "outputs": [
    {
     "data": {
      "image/png": "[encoded data removed]",
      "text/plain": [
       "<Figure size 1000x500 with 2 Axes>"
      ]
     },
     "metadata": {},
     "output_type": "display_data"
    },
    {
     "data": {
      "image/png": "[encoded data removed]",
      "text/plain": [
       "<Figure size 1000x300 with 2 Axes>"
      ]
     },
     "metadata": {},
     "output_type": "display_data"
    }
   ],
   "source": [
    "plt.figure(figsize=(10,5))\n",
    "plt.subplot(211)\n",
    "pp.plot(phot=False, gas_clip=True)\n",
    "plt.subplot(212)\n",
    "pp.plot(spec=False, gas_clip=True)\n",
    "plt.tight_layout()\n",
    "\n",
    "plt.figure(figsize=(10,3))\n",
    "sps.plot(light_weights)\n",
    "plt.title(\"Light Fraction\")\n",
    "plt.tight_layout()\n",
    "plt.pause(5);"
   ]
  }
 ],
 "metadata": {
  "jupytext": {
   "formats": "py:percent,ipynb"
  },
  "kernelspec": {
   "display_name": "base",
   "language": "python",
   "name": "python3"
  },
  "language_info": {
   "codemirror_mode": {
    "name": "ipython",
    "version": 3
   },
   "file_extension": ".py",
   "mimetype": "text/x-python",
   "name": "python",
   "nbconvert_exporter": "python",
   "pygments_lexer": "ipython3",
   "version": "3.12.3"
  }
 },
 "nbformat": 4,
 "nbformat_minor": 5
}
